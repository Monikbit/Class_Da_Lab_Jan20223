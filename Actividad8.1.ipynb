{
 "cells": [
  {
   "attachments": {},
   "cell_type": "markdown",
   "metadata": {},
   "source": [
    "# <font color='orange'> 8.01 Activity 1</font>"
   ]
  },
  {
   "attachments": {},
   "cell_type": "markdown",
   "metadata": {},
   "source": [
    "- Find one website on the internet that would be cool to scrape, either for a personal project or with a business use case. Share this site on Slack with your instructor and your classmates.\n",
    "- Have prepared answer - what would they do with the data?"
   ]
  },
  {
   "attachments": {},
   "cell_type": "markdown",
   "metadata": {},
   "source": [
    "# <font color='orange'>8.01 Activity 2</font>"
   ]
  },
  {
   "attachments": {},
   "cell_type": "markdown",
   "metadata": {},
   "source": [
    "- Write code to print the following contents (not including the HTML tags, only human-readable text):\n",
    "- All the \"fun facts\".\n",
    "- The names of all the places.\n",
    "- The content (name and fact) of all the cities (only cities, not countries!)\n",
    "- The names (not facts!) of all the cities (not countries!)"
   ]
  },
  {
   "cell_type": "code",
   "execution_count": 1,
   "metadata": {},
   "outputs": [],
   "source": [
    "from bs4 import BeautifulSoup"
   ]
  },
  {
   "cell_type": "code",
   "execution_count": 2,
   "metadata": {},
   "outputs": [],
   "source": [
    "pagweb= \"\"\" \n",
    "<!DOCTYPE html>\n",
    "<html>\n",
    "  <head>\n",
    "    Geography\n",
    "  </head>\n",
    "  <body>\n",
    "    <div class=\"city\">\n",
    "      <h2>London</h2>\n",
    "      <p>London is the most popular tourist destination in the world.</p>\n",
    "    </div>\n",
    "\n",
    "    <div class=\"city\">\n",
    "      <h2>Paris</h2>\n",
    "      <p>Paris was originally a Roman City called Lutetia.</p>\n",
    "    </div>\n",
    "\n",
    "    <div class=\"country\">\n",
    "      <h2>Spain</h2>\n",
    "      <p>Spain produces 43,8% of all the world's Olive Oil.</p>\n",
    "    </div>\n",
    "  </body>\n",
    "</html> \"\"\""
   ]
  },
  {
   "cell_type": "code",
   "execution_count": 4,
   "metadata": {},
   "outputs": [
    {
     "data": {
      "text/plain": [
       "' \\n<!DOCTYPE html>\\n<html>\\n  <head>\\n    Geography\\n  </head>\\n  <body>\\n    <div class=\"city\">\\n      <h2>London</h2>\\n      <p>London is the most popular tourist destination in the world.</p>\\n    </div>\\n\\n    <div class=\"city\">\\n      <h2>Paris</h2>\\n      <p>Paris was originally a Roman City called Lutetia.</p>\\n    </div>\\n\\n    <div class=\"country\">\\n      <h2>Spain</h2>\\n      <p>Spain produces 43,8% of all the world\\'s Olive Oil.</p>\\n    </div>\\n  </body>\\n</html> '"
      ]
     },
     "execution_count": 4,
     "metadata": {},
     "output_type": "execute_result"
    }
   ],
   "source": [
    "pagweb"
   ]
  },
  {
   "cell_type": "code",
   "execution_count": 5,
   "metadata": {},
   "outputs": [],
   "source": [
    "soup=BeautifulSoup(pagweb,'html.parser')"
   ]
  },
  {
   "cell_type": "code",
   "execution_count": 6,
   "metadata": {},
   "outputs": [
    {
     "data": {
      "text/plain": [
       "\n",
       "<!DOCTYPE html>\n",
       "\n",
       "<html>\n",
       "<head>\n",
       "    Geography\n",
       "  </head>\n",
       "<body>\n",
       "<div class=\"city\">\n",
       "<h2>London</h2>\n",
       "<p>London is the most popular tourist destination in the world.</p>\n",
       "</div>\n",
       "<div class=\"city\">\n",
       "<h2>Paris</h2>\n",
       "<p>Paris was originally a Roman City called Lutetia.</p>\n",
       "</div>\n",
       "<div class=\"country\">\n",
       "<h2>Spain</h2>\n",
       "<p>Spain produces 43,8% of all the world's Olive Oil.</p>\n",
       "</div>\n",
       "</body>\n",
       "</html> "
      ]
     },
     "execution_count": 6,
     "metadata": {},
     "output_type": "execute_result"
    }
   ],
   "source": [
    "soup"
   ]
  },
  {
   "cell_type": "code",
   "execution_count": 8,
   "metadata": {},
   "outputs": [
    {
     "name": "stdout",
     "output_type": "stream",
     "text": [
      "London is the most popular tourist destination in the world.\n",
      "Paris was originally a Roman City called Lutetia.\n",
      "Spain produces 43,8% of all the world's Olive Oil.\n"
     ]
    }
   ],
   "source": [
    "# - All the \"fun facts\".\n",
    "for a in soup.find_all(\"p\"):\n",
    "    print(a.get_text())"
   ]
  },
  {
   "cell_type": "code",
   "execution_count": 10,
   "metadata": {},
   "outputs": [
    {
     "name": "stdout",
     "output_type": "stream",
     "text": [
      "London\n",
      "Paris\n",
      "Spain\n"
     ]
    }
   ],
   "source": [
    "#  The names of all the places.\n",
    "for a in soup.find_all(\"h2\"):\n",
    "    print(a.get_text())"
   ]
  },
  {
   "cell_type": "code",
   "execution_count": 30,
   "metadata": {},
   "outputs": [
    {
     "name": "stdout",
     "output_type": "stream",
     "text": [
      "\n",
      "London\n",
      "London is the most popular tourist destination in the world.\n",
      "\n",
      "\n",
      "Paris\n",
      "Paris was originally a Roman City called Lutetia.\n",
      "\n"
     ]
    }
   ],
   "source": [
    "# - The content (name and fact) of all the cities (only cities, not countries!)\n",
    "for a in soup.find_all(\"div\", {\"class\": \"city\"}):\n",
    "    print(a.get_text())"
   ]
  },
  {
   "cell_type": "code",
   "execution_count": 34,
   "metadata": {},
   "outputs": [
    {
     "name": "stdout",
     "output_type": "stream",
     "text": [
      "London\n",
      "Paris\n"
     ]
    }
   ],
   "source": [
    "# The names (not facts!) of all the cities (not countries!) \n",
    "# Me gusta complicarme la vida\n",
    "\n",
    "div_ciudades = soup.find_all(\"div\", {\"class\": \"city\"})\n",
    "for div_ciudad in div_ciudades:\n",
    "    titulos = [h2.get_text().strip() for h2 in div_ciudad.find_all(\"h2\")]\n",
    "    for titulo in titulos:\n",
    "        print(titulo)\n",
    "    "
   ]
  },
  {
   "cell_type": "code",
   "execution_count": 35,
   "metadata": {},
   "outputs": [
    {
     "name": "stdout",
     "output_type": "stream",
     "text": [
      "London\n",
      "Paris\n"
     ]
    }
   ],
   "source": [
    "# Print names of all cities # manera mas simple\n",
    "for div in soup.find_all('div', {'class': 'city'}):\n",
    "    print(div.h2.get_text())"
   ]
  }
 ],
 "metadata": {
  "kernelspec": {
   "display_name": "base",
   "language": "python",
   "name": "python3"
  },
  "language_info": {
   "codemirror_mode": {
    "name": "ipython",
    "version": 3
   },
   "file_extension": ".py",
   "mimetype": "text/x-python",
   "name": "python",
   "nbconvert_exporter": "python",
   "pygments_lexer": "ipython3",
   "version": "3.9.13"
  },
  "orig_nbformat": 4,
  "vscode": {
   "interpreter": {
    "hash": "f6a2100a7efc7529035a40d3ea72bc8e547ceb70664fb95a465d233cbcc6110c"
   }
  }
 },
 "nbformat": 4,
 "nbformat_minor": 2
}
