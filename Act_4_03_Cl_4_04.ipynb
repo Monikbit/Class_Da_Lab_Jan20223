{
  "cells": [
    {
      "cell_type": "code",
      "execution_count": 1,
      "metadata": {
        "id": "e9boHV3wFih5"
      },
      "outputs": [],
      "source": [
        "import re"
      ]
    },
    {
      "cell_type": "code",
      "execution_count": 2,
      "metadata": {
        "colab": {
          "base_uri": "https://localhost:8080/"
        },
        "id": "ZXu7EpUPF212",
        "outputId": "494f54c7-a5df-4224-b734-56d1cfc3704b"
      },
      "outputs": [
        {
          "data": {
            "text/plain": [
              "['800 - 237 - 6639',\n",
              " '888- 247-2262',\n",
              " '888-247-2262',\n",
              " '800-567-6567',\n",
              " '800-361-2965',\n",
              " '800-661-0407',\n",
              " '888-545-6794']"
            ]
          },
          "execution_count": 2,
          "metadata": {},
          "output_type": "execute_result"
        }
      ],
      "source": [
        "#Ejercicio 1\n",
        "text = \"\"\"\n",
        "Aeromexico 800 - 237 - 6639\n",
        "Air Canada 888- 247-2262\n",
        "Air Canada Rouge 888-247-2262\n",
        "Air Creebec 800-567-6567\n",
        "Air Inuit 800-361-2965\n",
        "Air North 800-661-0407\n",
        "Air Tindi 888-545-6794\"\"\"\n",
        "\n",
        "pattern = '\\d+\\s*-\\s*\\d+\\s*-\\s*\\d+'\n",
        "re.findall(pattern, text)"
      ]
    },
    {
      "cell_type": "code",
      "execution_count": 3,
      "metadata": {
        "colab": {
          "base_uri": "https://localhost:8080/"
        },
        "id": "tqPJ4CWdGNHl",
        "outputId": "d6f82511-5920-4c01-eb1c-4e1d2fabbb8a"
      },
      "outputs": [
        {
          "name": "stdout",
          "output_type": "stream",
          "text": [
            "['KerraPower', 'Bill Gates', 'China', 'Trump']\n"
          ]
        }
      ],
      "source": [
        "#['KerraPower', 'Bill Gates', 'China', 'Trump']\n",
        "text = '''TKerraPower, A nuclear-energy company founded by Bill Gates,\n",
        "        is unlikely to follow through on building a demonstration reactor in China,\n",
        "        due largely to the Trump administration�s crackdown on the country'''\n",
        "\n",
        "pattern       = '[A-Z][a-z]+ ?[A-Z][a-z]+|[A-Z][a-z]+' #aquí en la búsqueda que les interesa de REGEX\n",
        "#hay que ser ultra cuidadosos con los espacios\n",
        "print(re.findall(pattern, text))"
      ]
    },
    {
      "cell_type": "code",
      "execution_count": 4,
      "metadata": {
        "colab": {
          "base_uri": "https://localhost:8080/"
        },
        "id": "0mnA8JzAHDbh",
        "outputId": "ae61f28e-3739-4f8d-a451-c9532f1968c7"
      },
      "outputs": [
        {
          "data": {
            "text/plain": [
              "Suburban    20737\n",
              "Rural       18863\n",
              "City        18683\n",
              "Town        18521\n",
              "Urban       11589\n",
              "Name: DOMAIN, dtype: int64"
            ]
          },
          "execution_count": 4,
          "metadata": {},
          "output_type": "execute_result"
        }
      ],
      "source": [
        "#ej2.\n",
        "\"\"\"\n",
        "4.03 Activity 2\n",
        "Use the column DOMAIN (in the unit4.csv file you used for the previous activities) \n",
        "to categorize the column based on the first letter of the input\n",
        "\n",
        "U=Urban\n",
        "C=City\n",
        "S=Suburban\n",
        "T=Town\n",
        "R=Rural\n",
        "Replace the blanks with NaNs. Then replace these NaNs with the most frequent category in the column\n",
        "\"\"\"\n",
        "import pandas as pd\n",
        "import numpy as np\n",
        "data=pd.read_csv('unit4.txt')\n",
        "data=pd.DataFrame(data['DOMAIN'])\n",
        "data=data.dropna()\n",
        "\n",
        "domain_categories = {\"U\" : \"Urban\", \"C\" : \"City\", \"S\" : \"Suburban\", \"T\" : \"Town\", \"R\" : \"Rural\"}\n",
        "def clean_domain(x):\n",
        "    if str(x[0]) in list(domain_categories.keys()):\n",
        "        return domain_categories[x[0]]\n",
        "    else:\n",
        "        return np.NaN\n",
        "data['DOMAIN'] = list(map(clean_domain, data['DOMAIN']))\n",
        "data['DOMAIN'].value_counts()"
      ]
    },
    {
      "cell_type": "code",
      "execution_count": 5,
      "metadata": {
        "id": "AwYIebGFHvGE"
      },
      "outputs": [],
      "source": [
        "#Rellenar los nulos con el más común\n",
        "data['DOMAIN']=data['DOMAIN'].fillna('Suburban')"
      ]
    },
    {
      "cell_type": "code",
      "execution_count": 6,
      "metadata": {
        "colab": {
          "base_uri": "https://localhost:8080/",
          "height": 36
        },
        "id": "5D-sgHctJcbM",
        "outputId": "bac19772-ebd3-456a-844f-98048261df93"
      },
      "outputs": [
        {
          "data": {
            "text/plain": [
              "'\\nRespuesta\\nThere is not a correct answer, both are equally useful approaches to improve the quality of our data.\\n In the case of multicollinearity, why not check both? If two or more columns are directly correlated for\\n  more than a 0.9 you may want to drop it, same for VIF over 10. Just check both and if one exceeds those\\n   numbers try to drop it.\\n   '"
            ]
          },
          "execution_count": 6,
          "metadata": {},
          "output_type": "execute_result"
        }
      ],
      "source": [
        "\"\"\"\n",
        "ej4\n",
        "Is it better to use use VIF or a correlation matrix threshold for feature selection?\n",
        "\"\"\"\n",
        "\"\"\"\n",
        "Respuesta\n",
        "There is not a correct answer, both are equally useful approaches to improve the quality of our data.\n",
        " In the case of multicollinearity, why not check both? If two or more columns are directly correlated for\n",
        "  more than a 0.9 you may want to drop it, same for VIF over 10. Just check both and if one exceeds those\n",
        "   numbers try to drop it.\n",
        "   \"\"\"\n",
        "   "
      ]
    },
    {
      "cell_type": "code",
      "execution_count": 7,
      "metadata": {
        "id": "sM2JKB5OJeUm"
      },
      "outputs": [],
      "source": [
        "import pandas as pd\n",
        "import numpy as np\n",
        "import matplotlib.pyplot as plt\n",
        "import seaborn as sns\n"
      ]
    },
    {
      "cell_type": "code",
      "execution_count": 8,
      "metadata": {
        "id": "jc-bC-3EM6Oq"
      },
      "outputs": [],
      "source": [
        "data = pd.read_csv('unit4.txt')"
      ]
    },
    {
      "cell_type": "code",
      "execution_count": 9,
      "metadata": {
        "id": "iKUAMkqSM8VP"
      },
      "outputs": [],
      "source": [
        "from scipy.stats import chi2_contingency"
      ]
    },
    {
      "cell_type": "code",
      "execution_count": 10,
      "metadata": {
        "colab": {
          "base_uri": "https://localhost:8080/",
          "height": 582
        },
        "id": "d4qDhmmvM8Sp",
        "outputId": "4bb24957-1c8d-4b79-a7a2-f47d630d2998"
      },
      "outputs": [
        {
          "data": {
            "text/html": [
              "<div>\n",
              "<style scoped>\n",
              "    .dataframe tbody tr th:only-of-type {\n",
              "        vertical-align: middle;\n",
              "    }\n",
              "\n",
              "    .dataframe tbody tr th {\n",
              "        vertical-align: top;\n",
              "    }\n",
              "\n",
              "    .dataframe thead th {\n",
              "        text-align: right;\n",
              "    }\n",
              "</style>\n",
              "<table border=\"1\" class=\"dataframe\">\n",
              "  <thead>\n",
              "    <tr style=\"text-align: right;\">\n",
              "      <th>RFA_2</th>\n",
              "      <th>L1E</th>\n",
              "      <th>L1F</th>\n",
              "      <th>L1G</th>\n",
              "      <th>L2E</th>\n",
              "      <th>L2F</th>\n",
              "      <th>L2G</th>\n",
              "      <th>L3D</th>\n",
              "      <th>L3E</th>\n",
              "      <th>L3F</th>\n",
              "      <th>L3G</th>\n",
              "      <th>L4D</th>\n",
              "      <th>L4E</th>\n",
              "      <th>L4F</th>\n",
              "      <th>L4G</th>\n",
              "    </tr>\n",
              "    <tr>\n",
              "      <th>DOMAIN</th>\n",
              "      <th></th>\n",
              "      <th></th>\n",
              "      <th></th>\n",
              "      <th></th>\n",
              "      <th></th>\n",
              "      <th></th>\n",
              "      <th></th>\n",
              "      <th></th>\n",
              "      <th></th>\n",
              "      <th></th>\n",
              "      <th></th>\n",
              "      <th></th>\n",
              "      <th></th>\n",
              "      <th></th>\n",
              "    </tr>\n",
              "  </thead>\n",
              "  <tbody>\n",
              "    <tr>\n",
              "      <th>C1</th>\n",
              "      <td>249</td>\n",
              "      <td>1842</td>\n",
              "      <td>926</td>\n",
              "      <td>283</td>\n",
              "      <td>689</td>\n",
              "      <td>328</td>\n",
              "      <td>114</td>\n",
              "      <td>421</td>\n",
              "      <td>230</td>\n",
              "      <td>113</td>\n",
              "      <td>210</td>\n",
              "      <td>219</td>\n",
              "      <td>108</td>\n",
              "      <td>61</td>\n",
              "    </tr>\n",
              "    <tr>\n",
              "      <th>C2</th>\n",
              "      <td>413</td>\n",
              "      <td>2415</td>\n",
              "      <td>1002</td>\n",
              "      <td>436</td>\n",
              "      <td>916</td>\n",
              "      <td>383</td>\n",
              "      <td>205</td>\n",
              "      <td>640</td>\n",
              "      <td>277</td>\n",
              "      <td>153</td>\n",
              "      <td>434</td>\n",
              "      <td>318</td>\n",
              "      <td>163</td>\n",
              "      <td>79</td>\n",
              "    </tr>\n",
              "    <tr>\n",
              "      <th>C3</th>\n",
              "      <td>300</td>\n",
              "      <td>1620</td>\n",
              "      <td>605</td>\n",
              "      <td>298</td>\n",
              "      <td>558</td>\n",
              "      <td>199</td>\n",
              "      <td>155</td>\n",
              "      <td>410</td>\n",
              "      <td>166</td>\n",
              "      <td>54</td>\n",
              "      <td>319</td>\n",
              "      <td>228</td>\n",
              "      <td>106</td>\n",
              "      <td>38</td>\n",
              "    </tr>\n",
              "    <tr>\n",
              "      <th>R1</th>\n",
              "      <td>62</td>\n",
              "      <td>419</td>\n",
              "      <td>185</td>\n",
              "      <td>52</td>\n",
              "      <td>157</td>\n",
              "      <td>72</td>\n",
              "      <td>26</td>\n",
              "      <td>113</td>\n",
              "      <td>52</td>\n",
              "      <td>24</td>\n",
              "      <td>50</td>\n",
              "      <td>37</td>\n",
              "      <td>24</td>\n",
              "      <td>12</td>\n",
              "    </tr>\n",
              "    <tr>\n",
              "      <th>R2</th>\n",
              "      <td>782</td>\n",
              "      <td>4041</td>\n",
              "      <td>1532</td>\n",
              "      <td>778</td>\n",
              "      <td>1472</td>\n",
              "      <td>597</td>\n",
              "      <td>397</td>\n",
              "      <td>1060</td>\n",
              "      <td>480</td>\n",
              "      <td>190</td>\n",
              "      <td>742</td>\n",
              "      <td>535</td>\n",
              "      <td>286</td>\n",
              "      <td>114</td>\n",
              "    </tr>\n",
              "    <tr>\n",
              "      <th>R3</th>\n",
              "      <td>311</td>\n",
              "      <td>1486</td>\n",
              "      <td>441</td>\n",
              "      <td>280</td>\n",
              "      <td>488</td>\n",
              "      <td>178</td>\n",
              "      <td>165</td>\n",
              "      <td>380</td>\n",
              "      <td>143</td>\n",
              "      <td>53</td>\n",
              "      <td>319</td>\n",
              "      <td>200</td>\n",
              "      <td>93</td>\n",
              "      <td>35</td>\n",
              "    </tr>\n",
              "    <tr>\n",
              "      <th>S1</th>\n",
              "      <td>410</td>\n",
              "      <td>3627</td>\n",
              "      <td>1884</td>\n",
              "      <td>411</td>\n",
              "      <td>1231</td>\n",
              "      <td>695</td>\n",
              "      <td>198</td>\n",
              "      <td>751</td>\n",
              "      <td>438</td>\n",
              "      <td>193</td>\n",
              "      <td>368</td>\n",
              "      <td>344</td>\n",
              "      <td>208</td>\n",
              "      <td>108</td>\n",
              "    </tr>\n",
              "    <tr>\n",
              "      <th>S2</th>\n",
              "      <td>396</td>\n",
              "      <td>2631</td>\n",
              "      <td>1016</td>\n",
              "      <td>401</td>\n",
              "      <td>995</td>\n",
              "      <td>312</td>\n",
              "      <td>184</td>\n",
              "      <td>673</td>\n",
              "      <td>332</td>\n",
              "      <td>126</td>\n",
              "      <td>383</td>\n",
              "      <td>346</td>\n",
              "      <td>191</td>\n",
              "      <td>68</td>\n",
              "    </tr>\n",
              "    <tr>\n",
              "      <th>S3</th>\n",
              "      <td>81</td>\n",
              "      <td>633</td>\n",
              "      <td>198</td>\n",
              "      <td>79</td>\n",
              "      <td>205</td>\n",
              "      <td>53</td>\n",
              "      <td>56</td>\n",
              "      <td>157</td>\n",
              "      <td>68</td>\n",
              "      <td>31</td>\n",
              "      <td>117</td>\n",
              "      <td>89</td>\n",
              "      <td>32</td>\n",
              "      <td>18</td>\n",
              "    </tr>\n",
              "    <tr>\n",
              "      <th>T1</th>\n",
              "      <td>212</td>\n",
              "      <td>1534</td>\n",
              "      <td>753</td>\n",
              "      <td>204</td>\n",
              "      <td>542</td>\n",
              "      <td>273</td>\n",
              "      <td>91</td>\n",
              "      <td>369</td>\n",
              "      <td>197</td>\n",
              "      <td>74</td>\n",
              "      <td>181</td>\n",
              "      <td>142</td>\n",
              "      <td>98</td>\n",
              "      <td>42</td>\n",
              "    </tr>\n",
              "    <tr>\n",
              "      <th>T2</th>\n",
              "      <td>636</td>\n",
              "      <td>3711</td>\n",
              "      <td>1356</td>\n",
              "      <td>651</td>\n",
              "      <td>1341</td>\n",
              "      <td>549</td>\n",
              "      <td>305</td>\n",
              "      <td>1023</td>\n",
              "      <td>417</td>\n",
              "      <td>169</td>\n",
              "      <td>643</td>\n",
              "      <td>535</td>\n",
              "      <td>275</td>\n",
              "      <td>106</td>\n",
              "    </tr>\n",
              "    <tr>\n",
              "      <th>T3</th>\n",
              "      <td>130</td>\n",
              "      <td>669</td>\n",
              "      <td>202</td>\n",
              "      <td>109</td>\n",
              "      <td>226</td>\n",
              "      <td>86</td>\n",
              "      <td>68</td>\n",
              "      <td>201</td>\n",
              "      <td>72</td>\n",
              "      <td>23</td>\n",
              "      <td>148</td>\n",
              "      <td>91</td>\n",
              "      <td>48</td>\n",
              "      <td>19</td>\n",
              "    </tr>\n",
              "    <tr>\n",
              "      <th>U1</th>\n",
              "      <td>162</td>\n",
              "      <td>1451</td>\n",
              "      <td>709</td>\n",
              "      <td>207</td>\n",
              "      <td>493</td>\n",
              "      <td>239</td>\n",
              "      <td>63</td>\n",
              "      <td>305</td>\n",
              "      <td>143</td>\n",
              "      <td>76</td>\n",
              "      <td>127</td>\n",
              "      <td>162</td>\n",
              "      <td>79</td>\n",
              "      <td>43</td>\n",
              "    </tr>\n",
              "    <tr>\n",
              "      <th>U2</th>\n",
              "      <td>148</td>\n",
              "      <td>1048</td>\n",
              "      <td>422</td>\n",
              "      <td>165</td>\n",
              "      <td>366</td>\n",
              "      <td>142</td>\n",
              "      <td>67</td>\n",
              "      <td>230</td>\n",
              "      <td>105</td>\n",
              "      <td>59</td>\n",
              "      <td>128</td>\n",
              "      <td>117</td>\n",
              "      <td>82</td>\n",
              "      <td>32</td>\n",
              "    </tr>\n",
              "    <tr>\n",
              "      <th>U3</th>\n",
              "      <td>140</td>\n",
              "      <td>861</td>\n",
              "      <td>288</td>\n",
              "      <td>121</td>\n",
              "      <td>257</td>\n",
              "      <td>96</td>\n",
              "      <td>69</td>\n",
              "      <td>209</td>\n",
              "      <td>91</td>\n",
              "      <td>30</td>\n",
              "      <td>109</td>\n",
              "      <td>114</td>\n",
              "      <td>67</td>\n",
              "      <td>32</td>\n",
              "    </tr>\n",
              "    <tr>\n",
              "      <th>U4</th>\n",
              "      <td>79</td>\n",
              "      <td>624</td>\n",
              "      <td>207</td>\n",
              "      <td>72</td>\n",
              "      <td>214</td>\n",
              "      <td>79</td>\n",
              "      <td>43</td>\n",
              "      <td>133</td>\n",
              "      <td>46</td>\n",
              "      <td>24</td>\n",
              "      <td>73</td>\n",
              "      <td>78</td>\n",
              "      <td>41</td>\n",
              "      <td>22</td>\n",
              "    </tr>\n",
              "  </tbody>\n",
              "</table>\n",
              "</div>"
            ],
            "text/plain": [
              "RFA_2   L1E   L1F   L1G  L2E   L2F  L2G  L3D   L3E  L3F  L3G  L4D  L4E  L4F  \\\n",
              "DOMAIN                                                                        \n",
              "C1      249  1842   926  283   689  328  114   421  230  113  210  219  108   \n",
              "C2      413  2415  1002  436   916  383  205   640  277  153  434  318  163   \n",
              "C3      300  1620   605  298   558  199  155   410  166   54  319  228  106   \n",
              "R1       62   419   185   52   157   72   26   113   52   24   50   37   24   \n",
              "R2      782  4041  1532  778  1472  597  397  1060  480  190  742  535  286   \n",
              "R3      311  1486   441  280   488  178  165   380  143   53  319  200   93   \n",
              "S1      410  3627  1884  411  1231  695  198   751  438  193  368  344  208   \n",
              "S2      396  2631  1016  401   995  312  184   673  332  126  383  346  191   \n",
              "S3       81   633   198   79   205   53   56   157   68   31  117   89   32   \n",
              "T1      212  1534   753  204   542  273   91   369  197   74  181  142   98   \n",
              "T2      636  3711  1356  651  1341  549  305  1023  417  169  643  535  275   \n",
              "T3      130   669   202  109   226   86   68   201   72   23  148   91   48   \n",
              "U1      162  1451   709  207   493  239   63   305  143   76  127  162   79   \n",
              "U2      148  1048   422  165   366  142   67   230  105   59  128  117   82   \n",
              "U3      140   861   288  121   257   96   69   209   91   30  109  114   67   \n",
              "U4       79   624   207   72   214   79   43   133   46   24   73   78   41   \n",
              "\n",
              "RFA_2   L4G  \n",
              "DOMAIN       \n",
              "C1       61  \n",
              "C2       79  \n",
              "C3       38  \n",
              "R1       12  \n",
              "R2      114  \n",
              "R3       35  \n",
              "S1      108  \n",
              "S2       68  \n",
              "S3       18  \n",
              "T1       42  \n",
              "T2      106  \n",
              "T3       19  \n",
              "U1       43  \n",
              "U2       32  \n",
              "U3       32  \n",
              "U4       22  "
            ]
          },
          "execution_count": 10,
          "metadata": {},
          "output_type": "execute_result"
        }
      ],
      "source": [
        "#las cross tables te cuentan las combinaciones de categorías de 2 columnas\n",
        "data_crosstab=pd.crosstab(data['DOMAIN'],data['RFA_2'])\n",
        "data_crosstab"
      ]
    },
    {
      "cell_type": "code",
      "execution_count": 11,
      "metadata": {
        "colab": {
          "base_uri": "https://localhost:8080/",
          "height": 505
        },
        "id": "0QpcZzdfM8QD",
        "outputId": "72eacaf4-8abe-4c3f-f135-9e944b3c4bdb"
      },
      "outputs": [
        {
          "data": {
            "text/html": [
              "<div>\n",
              "<style scoped>\n",
              "    .dataframe tbody tr th:only-of-type {\n",
              "        vertical-align: middle;\n",
              "    }\n",
              "\n",
              "    .dataframe tbody tr th {\n",
              "        vertical-align: top;\n",
              "    }\n",
              "\n",
              "    .dataframe thead th {\n",
              "        text-align: right;\n",
              "    }\n",
              "</style>\n",
              "<table border=\"1\" class=\"dataframe\">\n",
              "  <thead>\n",
              "    <tr style=\"text-align: right;\">\n",
              "      <th></th>\n",
              "      <th>Unnamed: 0</th>\n",
              "      <th>STATE</th>\n",
              "      <th>PVASTATE</th>\n",
              "      <th>DOB</th>\n",
              "      <th>MDMAUD</th>\n",
              "      <th>RECP3</th>\n",
              "      <th>GENDER</th>\n",
              "      <th>DOMAIN</th>\n",
              "      <th>INCOME</th>\n",
              "      <th>HOMEOWNR</th>\n",
              "      <th>...</th>\n",
              "      <th>VETERANS</th>\n",
              "      <th>NUMPROM</th>\n",
              "      <th>CARDPROM</th>\n",
              "      <th>CARDPM12</th>\n",
              "      <th>NUMPRM12</th>\n",
              "      <th>MAXADATE</th>\n",
              "      <th>RFA_2</th>\n",
              "      <th>NGIFTALL</th>\n",
              "      <th>TIMELAG</th>\n",
              "      <th>AVGGIFT</th>\n",
              "    </tr>\n",
              "  </thead>\n",
              "  <tbody>\n",
              "    <tr>\n",
              "      <th>0</th>\n",
              "      <td>0</td>\n",
              "      <td>IL</td>\n",
              "      <td>NaN</td>\n",
              "      <td>3712</td>\n",
              "      <td>XXXX</td>\n",
              "      <td>NaN</td>\n",
              "      <td>F</td>\n",
              "      <td>T2</td>\n",
              "      <td>NaN</td>\n",
              "      <td>NaN</td>\n",
              "      <td>...</td>\n",
              "      <td>NaN</td>\n",
              "      <td>74</td>\n",
              "      <td>27</td>\n",
              "      <td>6</td>\n",
              "      <td>14</td>\n",
              "      <td>9702</td>\n",
              "      <td>L4E</td>\n",
              "      <td>31</td>\n",
              "      <td>4.0</td>\n",
              "      <td>7.741935</td>\n",
              "    </tr>\n",
              "    <tr>\n",
              "      <th>1</th>\n",
              "      <td>1</td>\n",
              "      <td>CA</td>\n",
              "      <td>NaN</td>\n",
              "      <td>5202</td>\n",
              "      <td>XXXX</td>\n",
              "      <td>NaN</td>\n",
              "      <td>M</td>\n",
              "      <td>S1</td>\n",
              "      <td>6.0</td>\n",
              "      <td>H</td>\n",
              "      <td>...</td>\n",
              "      <td>NaN</td>\n",
              "      <td>32</td>\n",
              "      <td>12</td>\n",
              "      <td>6</td>\n",
              "      <td>13</td>\n",
              "      <td>9702</td>\n",
              "      <td>L2G</td>\n",
              "      <td>3</td>\n",
              "      <td>18.0</td>\n",
              "      <td>15.666667</td>\n",
              "    </tr>\n",
              "    <tr>\n",
              "      <th>2</th>\n",
              "      <td>2</td>\n",
              "      <td>NC</td>\n",
              "      <td>NaN</td>\n",
              "      <td>0</td>\n",
              "      <td>XXXX</td>\n",
              "      <td>NaN</td>\n",
              "      <td>M</td>\n",
              "      <td>R2</td>\n",
              "      <td>3.0</td>\n",
              "      <td>U</td>\n",
              "      <td>...</td>\n",
              "      <td>NaN</td>\n",
              "      <td>63</td>\n",
              "      <td>26</td>\n",
              "      <td>6</td>\n",
              "      <td>14</td>\n",
              "      <td>9702</td>\n",
              "      <td>L4E</td>\n",
              "      <td>27</td>\n",
              "      <td>12.0</td>\n",
              "      <td>7.481481</td>\n",
              "    </tr>\n",
              "    <tr>\n",
              "      <th>3</th>\n",
              "      <td>3</td>\n",
              "      <td>CA</td>\n",
              "      <td>NaN</td>\n",
              "      <td>2801</td>\n",
              "      <td>XXXX</td>\n",
              "      <td>NaN</td>\n",
              "      <td>F</td>\n",
              "      <td>R2</td>\n",
              "      <td>1.0</td>\n",
              "      <td>U</td>\n",
              "      <td>...</td>\n",
              "      <td>NaN</td>\n",
              "      <td>66</td>\n",
              "      <td>27</td>\n",
              "      <td>6</td>\n",
              "      <td>14</td>\n",
              "      <td>9702</td>\n",
              "      <td>L4E</td>\n",
              "      <td>16</td>\n",
              "      <td>9.0</td>\n",
              "      <td>6.812500</td>\n",
              "    </tr>\n",
              "    <tr>\n",
              "      <th>4</th>\n",
              "      <td>4</td>\n",
              "      <td>FL</td>\n",
              "      <td>NaN</td>\n",
              "      <td>2001</td>\n",
              "      <td>XXXX</td>\n",
              "      <td>X</td>\n",
              "      <td>F</td>\n",
              "      <td>S2</td>\n",
              "      <td>3.0</td>\n",
              "      <td>H</td>\n",
              "      <td>...</td>\n",
              "      <td>NaN</td>\n",
              "      <td>113</td>\n",
              "      <td>43</td>\n",
              "      <td>10</td>\n",
              "      <td>25</td>\n",
              "      <td>9702</td>\n",
              "      <td>L2F</td>\n",
              "      <td>37</td>\n",
              "      <td>14.0</td>\n",
              "      <td>6.864865</td>\n",
              "    </tr>\n",
              "    <tr>\n",
              "      <th>...</th>\n",
              "      <td>...</td>\n",
              "      <td>...</td>\n",
              "      <td>...</td>\n",
              "      <td>...</td>\n",
              "      <td>...</td>\n",
              "      <td>...</td>\n",
              "      <td>...</td>\n",
              "      <td>...</td>\n",
              "      <td>...</td>\n",
              "      <td>...</td>\n",
              "      <td>...</td>\n",
              "      <td>...</td>\n",
              "      <td>...</td>\n",
              "      <td>...</td>\n",
              "      <td>...</td>\n",
              "      <td>...</td>\n",
              "      <td>...</td>\n",
              "      <td>...</td>\n",
              "      <td>...</td>\n",
              "      <td>...</td>\n",
              "      <td>...</td>\n",
              "    </tr>\n",
              "    <tr>\n",
              "      <th>90564</th>\n",
              "      <td>90564</td>\n",
              "      <td>FL</td>\n",
              "      <td>NaN</td>\n",
              "      <td>4803</td>\n",
              "      <td>XXXX</td>\n",
              "      <td>NaN</td>\n",
              "      <td>F</td>\n",
              "      <td>S2</td>\n",
              "      <td>6.0</td>\n",
              "      <td>H</td>\n",
              "      <td>...</td>\n",
              "      <td>NaN</td>\n",
              "      <td>59</td>\n",
              "      <td>23</td>\n",
              "      <td>5</td>\n",
              "      <td>12</td>\n",
              "      <td>9702</td>\n",
              "      <td>L4D</td>\n",
              "      <td>24</td>\n",
              "      <td>3.0</td>\n",
              "      <td>3.375000</td>\n",
              "    </tr>\n",
              "    <tr>\n",
              "      <th>90565</th>\n",
              "      <td>90565</td>\n",
              "      <td>AK</td>\n",
              "      <td>NaN</td>\n",
              "      <td>0</td>\n",
              "      <td>XXXX</td>\n",
              "      <td>NaN</td>\n",
              "      <td>M</td>\n",
              "      <td>C2</td>\n",
              "      <td>NaN</td>\n",
              "      <td>NaN</td>\n",
              "      <td>...</td>\n",
              "      <td>NaN</td>\n",
              "      <td>14</td>\n",
              "      <td>6</td>\n",
              "      <td>5</td>\n",
              "      <td>12</td>\n",
              "      <td>9702</td>\n",
              "      <td>L1G</td>\n",
              "      <td>1</td>\n",
              "      <td>NaN</td>\n",
              "      <td>25.000000</td>\n",
              "    </tr>\n",
              "    <tr>\n",
              "      <th>90566</th>\n",
              "      <td>90566</td>\n",
              "      <td>TX</td>\n",
              "      <td>NaN</td>\n",
              "      <td>5001</td>\n",
              "      <td>XXXX</td>\n",
              "      <td>NaN</td>\n",
              "      <td>M</td>\n",
              "      <td>C1</td>\n",
              "      <td>7.0</td>\n",
              "      <td>H</td>\n",
              "      <td>...</td>\n",
              "      <td>NaN</td>\n",
              "      <td>10</td>\n",
              "      <td>4</td>\n",
              "      <td>3</td>\n",
              "      <td>8</td>\n",
              "      <td>9702</td>\n",
              "      <td>L1F</td>\n",
              "      <td>1</td>\n",
              "      <td>NaN</td>\n",
              "      <td>20.000000</td>\n",
              "    </tr>\n",
              "    <tr>\n",
              "      <th>90567</th>\n",
              "      <td>90567</td>\n",
              "      <td>MI</td>\n",
              "      <td>NaN</td>\n",
              "      <td>3801</td>\n",
              "      <td>XXXX</td>\n",
              "      <td>X</td>\n",
              "      <td>M</td>\n",
              "      <td>C3</td>\n",
              "      <td>NaN</td>\n",
              "      <td>NaN</td>\n",
              "      <td>...</td>\n",
              "      <td>NaN</td>\n",
              "      <td>33</td>\n",
              "      <td>14</td>\n",
              "      <td>7</td>\n",
              "      <td>17</td>\n",
              "      <td>9702</td>\n",
              "      <td>L3E</td>\n",
              "      <td>7</td>\n",
              "      <td>3.0</td>\n",
              "      <td>8.285714</td>\n",
              "    </tr>\n",
              "    <tr>\n",
              "      <th>90568</th>\n",
              "      <td>90568</td>\n",
              "      <td>NC</td>\n",
              "      <td>NaN</td>\n",
              "      <td>1801</td>\n",
              "      <td>C1CM</td>\n",
              "      <td>NaN</td>\n",
              "      <td>F</td>\n",
              "      <td>C1</td>\n",
              "      <td>5.0</td>\n",
              "      <td>U</td>\n",
              "      <td>...</td>\n",
              "      <td>NaN</td>\n",
              "      <td>139</td>\n",
              "      <td>32</td>\n",
              "      <td>6</td>\n",
              "      <td>35</td>\n",
              "      <td>9702</td>\n",
              "      <td>L1G</td>\n",
              "      <td>39</td>\n",
              "      <td>6.0</td>\n",
              "      <td>96.794872</td>\n",
              "    </tr>\n",
              "  </tbody>\n",
              "</table>\n",
              "<p>90569 rows × 29 columns</p>\n",
              "</div>"
            ],
            "text/plain": [
              "       Unnamed: 0 STATE PVASTATE   DOB MDMAUD RECP3 GENDER DOMAIN  INCOME  \\\n",
              "0               0    IL      NaN  3712   XXXX   NaN      F     T2     NaN   \n",
              "1               1    CA      NaN  5202   XXXX   NaN      M     S1     6.0   \n",
              "2               2    NC      NaN     0   XXXX   NaN      M     R2     3.0   \n",
              "3               3    CA      NaN  2801   XXXX   NaN      F     R2     1.0   \n",
              "4               4    FL      NaN  2001   XXXX     X      F     S2     3.0   \n",
              "...           ...   ...      ...   ...    ...   ...    ...    ...     ...   \n",
              "90564       90564    FL      NaN  4803   XXXX   NaN      F     S2     6.0   \n",
              "90565       90565    AK      NaN     0   XXXX   NaN      M     C2     NaN   \n",
              "90566       90566    TX      NaN  5001   XXXX   NaN      M     C1     7.0   \n",
              "90567       90567    MI      NaN  3801   XXXX     X      M     C3     NaN   \n",
              "90568       90568    NC      NaN  1801   C1CM   NaN      F     C1     5.0   \n",
              "\n",
              "      HOMEOWNR  ...  VETERANS  NUMPROM  CARDPROM  CARDPM12  NUMPRM12  \\\n",
              "0          NaN  ...       NaN       74        27         6        14   \n",
              "1            H  ...       NaN       32        12         6        13   \n",
              "2            U  ...       NaN       63        26         6        14   \n",
              "3            U  ...       NaN       66        27         6        14   \n",
              "4            H  ...       NaN      113        43        10        25   \n",
              "...        ...  ...       ...      ...       ...       ...       ...   \n",
              "90564        H  ...       NaN       59        23         5        12   \n",
              "90565      NaN  ...       NaN       14         6         5        12   \n",
              "90566        H  ...       NaN       10         4         3         8   \n",
              "90567      NaN  ...       NaN       33        14         7        17   \n",
              "90568        U  ...       NaN      139        32         6        35   \n",
              "\n",
              "       MAXADATE  RFA_2  NGIFTALL  TIMELAG    AVGGIFT  \n",
              "0          9702    L4E        31      4.0   7.741935  \n",
              "1          9702    L2G         3     18.0  15.666667  \n",
              "2          9702    L4E        27     12.0   7.481481  \n",
              "3          9702    L4E        16      9.0   6.812500  \n",
              "4          9702    L2F        37     14.0   6.864865  \n",
              "...         ...    ...       ...      ...        ...  \n",
              "90564      9702    L4D        24      3.0   3.375000  \n",
              "90565      9702    L1G         1      NaN  25.000000  \n",
              "90566      9702    L1F         1      NaN  20.000000  \n",
              "90567      9702    L3E         7      3.0   8.285714  \n",
              "90568      9702    L1G        39      6.0  96.794872  \n",
              "\n",
              "[90569 rows x 29 columns]"
            ]
          },
          "execution_count": 11,
          "metadata": {},
          "output_type": "execute_result"
        }
      ],
      "source": [
        "data"
      ]
    },
    {
      "cell_type": "code",
      "execution_count": 12,
      "metadata": {
        "colab": {
          "base_uri": "https://localhost:8080/",
          "height": 148
        },
        "id": "anT3HNACM8Nc",
        "outputId": "00276271-c7be-4fb7-a15f-5b48aad3f33a"
      },
      "outputs": [
        {
          "data": {
            "text/plain": [
              "'\\n      soltero    casado\\nmex    2           0\\nUSA    1           0\\nCA     0          1\\n\\n'"
            ]
          },
          "execution_count": 12,
          "metadata": {},
          "output_type": "execute_result"
        }
      ],
      "source": [
        "#persona   Nacionalidad  estado_civil\n",
        "#  1          mex                soltero\n",
        "#  2          mex                soltero\n",
        "#  3          USA                Soltero\n",
        "#  4          CA                 casado\n",
        "\n",
        "#cross_table\n",
        "\"\"\"\n",
        "      soltero    casado\n",
        "mex    2           0\n",
        "USA    1           0\n",
        "CA     0          1\n",
        "\n",
        "\"\"\"\n"
      ]
    },
    {
      "cell_type": "code",
      "execution_count": 13,
      "metadata": {
        "id": "HyBHZFxkM8LF"
      },
      "outputs": [],
      "source": [
        "chi2, pval, dof, expec=chi2_contingency(data_crosstab)"
      ]
    },
    {
      "cell_type": "code",
      "execution_count": 14,
      "metadata": {
        "colab": {
          "base_uri": "https://localhost:8080/"
        },
        "id": "Iw_1e8OpM8Ih",
        "outputId": "53a306a3-4911-4f76-ba64-0f7717e4129f"
      },
      "outputs": [
        {
          "data": {
            "text/plain": [
              "3.738583051650944e-170"
            ]
          },
          "execution_count": 14,
          "metadata": {},
          "output_type": "execute_result"
        }
      ],
      "source": [
        "#Si el p-value nos da menor a 0.05, indica que hay muucha similitud/dependencia entre las columnas y\n",
        "#sin problema podemos borrar una de ellas\n",
        "pval\n",
        "#cuando en python marca 1.5e-3 = 1.5x10^-3= .0015\n",
        "#cuando en python marca 1.5e3 = 1.5x10^3= 1500."
      ]
    },
    {
      "cell_type": "code",
      "execution_count": 15,
      "metadata": {
        "colab": {
          "base_uri": "https://localhost:8080/"
        },
        "id": "EP88NMSRUorG",
        "outputId": "b337a879-fe65-4940-9fd7-8a14e9ab2c2a"
      },
      "outputs": [
        {
          "data": {
            "text/plain": [
              "array([[ 295.63679251, 1875.14074644,  768.48526467,  297.9961196 ,\n",
              "         665.19916735,  280.56331384,  144.5743215 ,  463.67331124,\n",
              "         213.45356533,   91.22731438,  285.1508943 ,  232.98355073,\n",
              "         124.58557804,   54.33006007],\n",
              "       [ 399.79606982, 2535.79364882, 1039.23935153,  402.98663921,\n",
              "         899.56331384,  379.41187651,  195.511002  ,  627.03551186,\n",
              "         288.65790278,  123.36868304,  385.61576143,  315.06872716,\n",
              "         168.47978912,   73.47172287],\n",
              "       [ 258.02513774, 1636.58063421,  670.71664046,  260.08430532,\n",
              "         580.57085968,  244.86934486,  126.18121344,  404.68362879,\n",
              "         186.29746699,   79.62114647,  248.87328182,  203.34279864,\n",
              "         108.7354881 ,   47.41805347],\n",
              "       [  65.57798694,  415.94266514,  170.46496895,   66.10133155,\n",
              "         147.55410496,   62.23439639,   32.06939464,  102.85175297,\n",
              "          47.34814974,   20.23599154,   63.25201091,   51.68028011,\n",
              "          27.63550281,   12.05146335],\n",
              "       [ 663.7410881 , 4209.92241467, 1725.34426934,  669.03806863,\n",
              "        1493.4542328 ,  629.89926804,  324.58719582, 1041.00381252,\n",
              "         479.22959963,  204.8165805 ,  640.19895241,  523.07682735,\n",
              "         279.70999966,  121.97769054],\n",
              "       [ 233.32494655, 1479.91429186,  606.51037978,  235.18699445,\n",
              "         524.99406062,  221.42852941,  114.10215741,  365.94413585,\n",
              "         168.46361137,   71.99918546,  225.0491781 ,  183.8772301 ,\n",
              "          98.32647382,   42.87882525],\n",
              "       [ 554.52949894, 3517.22412408, 1441.45708371,  558.95491724,\n",
              "        1247.72210469,  526.25599312,  271.17979931,  869.7176247 ,\n",
              "         400.37742808,  171.11617436,  534.86097315,  437.01005736,\n",
              "         233.68667202,  101.90754924],\n",
              "       [ 411.02342946, 2607.00562262, 1068.42401548,  414.3035987 ,\n",
              "         924.82549523,  390.06679262,  201.00148202,  644.64437229,\n",
              "         296.76420079,  126.83321077,  396.44489948,  323.91671286,\n",
              "         173.21115925,   75.53500843],\n",
              "       [  92.72778387,  588.14616542,  241.03879266,   93.46779722,\n",
              "         208.6426527 ,   87.99992081,   45.34637358,  145.4331791 ,\n",
              "          66.9506522 ,   28.61384951,   89.43883565,   73.07631826,\n",
              "          39.07681604,   17.04086296],\n",
              "       [ 240.46962995, 1525.23100245,  625.08243865,  242.38869594,\n",
              "         541.06999423,  228.20893057,  117.59609924,  377.1497743 ,\n",
              "         173.62216465,   74.20388492,  231.94044777,  189.50776645,\n",
              "         101.33734572,   44.19182514],\n",
              "       [ 597.95896734, 3792.68498637, 1554.34867014,  602.73097417,\n",
              "        1345.44081545,  567.47114591,  292.41797427,  937.83189845,\n",
              "         431.73406265,  184.51759755,  576.75004808,  471.23567477,\n",
              "         251.98847194,  109.88871291],\n",
              "       [ 106.76198341,  677.16113267,  277.51962259,  107.61399658,\n",
              "         240.22037944,  101.31856595,   52.2094736 ,  167.44425464,\n",
              "          77.08352471,   32.94450918,  102.97525822,   84.13630039,\n",
              "          44.9910287 ,   19.61996991],\n",
              "       [ 217.3514758 , 1378.59907459,  564.98856244,  219.08604754,\n",
              "         489.05286618,  206.26948967,  106.29070175,  340.89152987,\n",
              "         156.93056011,   67.07010736,  209.64226805,  171.28895953,\n",
              "          91.59502449,   39.94333262],\n",
              "       [ 158.76507189, 1007.00204767,  412.69767968,  160.0320953 ,\n",
              "         357.23021054,  150.67020013,   77.64037876,  249.00529454,\n",
              "         114.63042322,   48.99157173,  153.13385675,  125.11856142,\n",
              "          66.9058749 ,   29.17673345],\n",
              "       [ 126.76709694,  804.04792235,  329.52138744,  127.77876076,\n",
              "         285.23299356,  120.30368921,   61.99251072,  198.82004231,\n",
              "          91.52747389,   39.11766769,  122.2708133 ,   99.90180218,\n",
              "          53.42147003,   23.29636962],\n",
              "       [  88.54304074,  561.60352064,  230.16087247,   89.24965778,\n",
              "         199.22674872,   84.02854298,   43.29992194,  138.86987657,\n",
              "          63.92921385,   27.32252554,   85.40252056,   69.77843268,\n",
              "          37.31330535,   16.27182017]])"
            ]
          },
          "execution_count": 15,
          "metadata": {},
          "output_type": "execute_result"
        }
      ],
      "source": [
        "expec"
      ]
    },
    {
      "cell_type": "code",
      "execution_count": 16,
      "metadata": {
        "colab": {
          "base_uri": "https://localhost:8080/",
          "height": 675
        },
        "id": "9p2KiQZFM8GB",
        "outputId": "750ce245-b20a-4dc1-a310-8d1117d5a3e3"
      },
      "outputs": [
        {
          "data": {
            "text/html": [
              "<div>\n",
              "<style scoped>\n",
              "    .dataframe tbody tr th:only-of-type {\n",
              "        vertical-align: middle;\n",
              "    }\n",
              "\n",
              "    .dataframe tbody tr th {\n",
              "        vertical-align: top;\n",
              "    }\n",
              "\n",
              "    .dataframe thead th {\n",
              "        text-align: right;\n",
              "    }\n",
              "</style>\n",
              "<table border=\"1\" class=\"dataframe\">\n",
              "  <thead>\n",
              "    <tr style=\"text-align: right;\">\n",
              "      <th>TIMELAG</th>\n",
              "      <th>0.0</th>\n",
              "      <th>1.0</th>\n",
              "      <th>2.0</th>\n",
              "      <th>3.0</th>\n",
              "      <th>4.0</th>\n",
              "      <th>5.0</th>\n",
              "      <th>6.0</th>\n",
              "      <th>7.0</th>\n",
              "      <th>8.0</th>\n",
              "      <th>9.0</th>\n",
              "      <th>...</th>\n",
              "      <th>57.0</th>\n",
              "      <th>58.0</th>\n",
              "      <th>59.0</th>\n",
              "      <th>61.0</th>\n",
              "      <th>62.0</th>\n",
              "      <th>89.0</th>\n",
              "      <th>90.0</th>\n",
              "      <th>442.0</th>\n",
              "      <th>1044.0</th>\n",
              "      <th>1088.0</th>\n",
              "    </tr>\n",
              "    <tr>\n",
              "      <th>DOMAIN</th>\n",
              "      <th></th>\n",
              "      <th></th>\n",
              "      <th></th>\n",
              "      <th></th>\n",
              "      <th></th>\n",
              "      <th></th>\n",
              "      <th></th>\n",
              "      <th></th>\n",
              "      <th></th>\n",
              "      <th></th>\n",
              "      <th></th>\n",
              "      <th></th>\n",
              "      <th></th>\n",
              "      <th></th>\n",
              "      <th></th>\n",
              "      <th></th>\n",
              "      <th></th>\n",
              "      <th></th>\n",
              "      <th></th>\n",
              "      <th></th>\n",
              "      <th></th>\n",
              "    </tr>\n",
              "  </thead>\n",
              "  <tbody>\n",
              "    <tr>\n",
              "      <th>C1</th>\n",
              "      <td>48</td>\n",
              "      <td>232</td>\n",
              "      <td>357</td>\n",
              "      <td>453</td>\n",
              "      <td>478</td>\n",
              "      <td>513</td>\n",
              "      <td>370</td>\n",
              "      <td>378</td>\n",
              "      <td>346</td>\n",
              "      <td>270</td>\n",
              "      <td>...</td>\n",
              "      <td>0</td>\n",
              "      <td>0</td>\n",
              "      <td>0</td>\n",
              "      <td>0</td>\n",
              "      <td>0</td>\n",
              "      <td>0</td>\n",
              "      <td>0</td>\n",
              "      <td>0</td>\n",
              "      <td>0</td>\n",
              "      <td>0</td>\n",
              "    </tr>\n",
              "    <tr>\n",
              "      <th>C2</th>\n",
              "      <td>84</td>\n",
              "      <td>347</td>\n",
              "      <td>494</td>\n",
              "      <td>700</td>\n",
              "      <td>748</td>\n",
              "      <td>722</td>\n",
              "      <td>563</td>\n",
              "      <td>491</td>\n",
              "      <td>443</td>\n",
              "      <td>365</td>\n",
              "      <td>...</td>\n",
              "      <td>0</td>\n",
              "      <td>0</td>\n",
              "      <td>0</td>\n",
              "      <td>0</td>\n",
              "      <td>0</td>\n",
              "      <td>0</td>\n",
              "      <td>0</td>\n",
              "      <td>0</td>\n",
              "      <td>0</td>\n",
              "      <td>1</td>\n",
              "    </tr>\n",
              "    <tr>\n",
              "      <th>C3</th>\n",
              "      <td>61</td>\n",
              "      <td>226</td>\n",
              "      <td>337</td>\n",
              "      <td>453</td>\n",
              "      <td>467</td>\n",
              "      <td>459</td>\n",
              "      <td>353</td>\n",
              "      <td>302</td>\n",
              "      <td>242</td>\n",
              "      <td>212</td>\n",
              "      <td>...</td>\n",
              "      <td>0</td>\n",
              "      <td>0</td>\n",
              "      <td>1</td>\n",
              "      <td>0</td>\n",
              "      <td>0</td>\n",
              "      <td>0</td>\n",
              "      <td>0</td>\n",
              "      <td>1</td>\n",
              "      <td>0</td>\n",
              "      <td>0</td>\n",
              "    </tr>\n",
              "    <tr>\n",
              "      <th>R1</th>\n",
              "      <td>7</td>\n",
              "      <td>53</td>\n",
              "      <td>74</td>\n",
              "      <td>104</td>\n",
              "      <td>109</td>\n",
              "      <td>113</td>\n",
              "      <td>79</td>\n",
              "      <td>78</td>\n",
              "      <td>70</td>\n",
              "      <td>65</td>\n",
              "      <td>...</td>\n",
              "      <td>0</td>\n",
              "      <td>0</td>\n",
              "      <td>0</td>\n",
              "      <td>0</td>\n",
              "      <td>0</td>\n",
              "      <td>0</td>\n",
              "      <td>0</td>\n",
              "      <td>0</td>\n",
              "      <td>0</td>\n",
              "      <td>0</td>\n",
              "    </tr>\n",
              "    <tr>\n",
              "      <th>R2</th>\n",
              "      <td>127</td>\n",
              "      <td>519</td>\n",
              "      <td>834</td>\n",
              "      <td>1174</td>\n",
              "      <td>1198</td>\n",
              "      <td>1190</td>\n",
              "      <td>992</td>\n",
              "      <td>829</td>\n",
              "      <td>702</td>\n",
              "      <td>636</td>\n",
              "      <td>...</td>\n",
              "      <td>0</td>\n",
              "      <td>1</td>\n",
              "      <td>0</td>\n",
              "      <td>0</td>\n",
              "      <td>0</td>\n",
              "      <td>1</td>\n",
              "      <td>0</td>\n",
              "      <td>0</td>\n",
              "      <td>1</td>\n",
              "      <td>0</td>\n",
              "    </tr>\n",
              "    <tr>\n",
              "      <th>R3</th>\n",
              "      <td>49</td>\n",
              "      <td>196</td>\n",
              "      <td>297</td>\n",
              "      <td>444</td>\n",
              "      <td>408</td>\n",
              "      <td>418</td>\n",
              "      <td>304</td>\n",
              "      <td>278</td>\n",
              "      <td>262</td>\n",
              "      <td>204</td>\n",
              "      <td>...</td>\n",
              "      <td>0</td>\n",
              "      <td>0</td>\n",
              "      <td>0</td>\n",
              "      <td>0</td>\n",
              "      <td>0</td>\n",
              "      <td>0</td>\n",
              "      <td>1</td>\n",
              "      <td>0</td>\n",
              "      <td>0</td>\n",
              "      <td>0</td>\n",
              "    </tr>\n",
              "    <tr>\n",
              "      <th>S1</th>\n",
              "      <td>83</td>\n",
              "      <td>387</td>\n",
              "      <td>664</td>\n",
              "      <td>897</td>\n",
              "      <td>904</td>\n",
              "      <td>948</td>\n",
              "      <td>684</td>\n",
              "      <td>656</td>\n",
              "      <td>603</td>\n",
              "      <td>503</td>\n",
              "      <td>...</td>\n",
              "      <td>1</td>\n",
              "      <td>0</td>\n",
              "      <td>1</td>\n",
              "      <td>0</td>\n",
              "      <td>1</td>\n",
              "      <td>0</td>\n",
              "      <td>0</td>\n",
              "      <td>0</td>\n",
              "      <td>0</td>\n",
              "      <td>0</td>\n",
              "    </tr>\n",
              "    <tr>\n",
              "      <th>S2</th>\n",
              "      <td>72</td>\n",
              "      <td>330</td>\n",
              "      <td>577</td>\n",
              "      <td>744</td>\n",
              "      <td>715</td>\n",
              "      <td>697</td>\n",
              "      <td>559</td>\n",
              "      <td>485</td>\n",
              "      <td>465</td>\n",
              "      <td>374</td>\n",
              "      <td>...</td>\n",
              "      <td>0</td>\n",
              "      <td>0</td>\n",
              "      <td>0</td>\n",
              "      <td>0</td>\n",
              "      <td>0</td>\n",
              "      <td>0</td>\n",
              "      <td>0</td>\n",
              "      <td>0</td>\n",
              "      <td>0</td>\n",
              "      <td>0</td>\n",
              "    </tr>\n",
              "    <tr>\n",
              "      <th>S3</th>\n",
              "      <td>26</td>\n",
              "      <td>80</td>\n",
              "      <td>124</td>\n",
              "      <td>164</td>\n",
              "      <td>171</td>\n",
              "      <td>180</td>\n",
              "      <td>123</td>\n",
              "      <td>99</td>\n",
              "      <td>85</td>\n",
              "      <td>75</td>\n",
              "      <td>...</td>\n",
              "      <td>0</td>\n",
              "      <td>0</td>\n",
              "      <td>0</td>\n",
              "      <td>0</td>\n",
              "      <td>0</td>\n",
              "      <td>0</td>\n",
              "      <td>0</td>\n",
              "      <td>0</td>\n",
              "      <td>0</td>\n",
              "      <td>0</td>\n",
              "    </tr>\n",
              "    <tr>\n",
              "      <th>T1</th>\n",
              "      <td>30</td>\n",
              "      <td>163</td>\n",
              "      <td>289</td>\n",
              "      <td>365</td>\n",
              "      <td>415</td>\n",
              "      <td>433</td>\n",
              "      <td>332</td>\n",
              "      <td>259</td>\n",
              "      <td>274</td>\n",
              "      <td>237</td>\n",
              "      <td>...</td>\n",
              "      <td>0</td>\n",
              "      <td>0</td>\n",
              "      <td>0</td>\n",
              "      <td>0</td>\n",
              "      <td>0</td>\n",
              "      <td>0</td>\n",
              "      <td>0</td>\n",
              "      <td>0</td>\n",
              "      <td>0</td>\n",
              "      <td>0</td>\n",
              "    </tr>\n",
              "    <tr>\n",
              "      <th>T2</th>\n",
              "      <td>111</td>\n",
              "      <td>504</td>\n",
              "      <td>789</td>\n",
              "      <td>1122</td>\n",
              "      <td>1034</td>\n",
              "      <td>1056</td>\n",
              "      <td>800</td>\n",
              "      <td>749</td>\n",
              "      <td>647</td>\n",
              "      <td>564</td>\n",
              "      <td>...</td>\n",
              "      <td>1</td>\n",
              "      <td>0</td>\n",
              "      <td>0</td>\n",
              "      <td>1</td>\n",
              "      <td>0</td>\n",
              "      <td>0</td>\n",
              "      <td>0</td>\n",
              "      <td>0</td>\n",
              "      <td>0</td>\n",
              "      <td>0</td>\n",
              "    </tr>\n",
              "    <tr>\n",
              "      <th>T3</th>\n",
              "      <td>20</td>\n",
              "      <td>104</td>\n",
              "      <td>150</td>\n",
              "      <td>208</td>\n",
              "      <td>192</td>\n",
              "      <td>166</td>\n",
              "      <td>146</td>\n",
              "      <td>129</td>\n",
              "      <td>95</td>\n",
              "      <td>96</td>\n",
              "      <td>...</td>\n",
              "      <td>0</td>\n",
              "      <td>0</td>\n",
              "      <td>0</td>\n",
              "      <td>0</td>\n",
              "      <td>0</td>\n",
              "      <td>0</td>\n",
              "      <td>0</td>\n",
              "      <td>0</td>\n",
              "      <td>0</td>\n",
              "      <td>0</td>\n",
              "    </tr>\n",
              "    <tr>\n",
              "      <th>U1</th>\n",
              "      <td>30</td>\n",
              "      <td>167</td>\n",
              "      <td>253</td>\n",
              "      <td>337</td>\n",
              "      <td>346</td>\n",
              "      <td>388</td>\n",
              "      <td>253</td>\n",
              "      <td>236</td>\n",
              "      <td>222</td>\n",
              "      <td>189</td>\n",
              "      <td>...</td>\n",
              "      <td>0</td>\n",
              "      <td>0</td>\n",
              "      <td>0</td>\n",
              "      <td>0</td>\n",
              "      <td>0</td>\n",
              "      <td>0</td>\n",
              "      <td>0</td>\n",
              "      <td>0</td>\n",
              "      <td>0</td>\n",
              "      <td>0</td>\n",
              "    </tr>\n",
              "    <tr>\n",
              "      <th>U2</th>\n",
              "      <td>24</td>\n",
              "      <td>124</td>\n",
              "      <td>202</td>\n",
              "      <td>268</td>\n",
              "      <td>260</td>\n",
              "      <td>279</td>\n",
              "      <td>231</td>\n",
              "      <td>167</td>\n",
              "      <td>192</td>\n",
              "      <td>151</td>\n",
              "      <td>...</td>\n",
              "      <td>0</td>\n",
              "      <td>0</td>\n",
              "      <td>0</td>\n",
              "      <td>0</td>\n",
              "      <td>0</td>\n",
              "      <td>0</td>\n",
              "      <td>0</td>\n",
              "      <td>0</td>\n",
              "      <td>0</td>\n",
              "      <td>0</td>\n",
              "    </tr>\n",
              "    <tr>\n",
              "      <th>U3</th>\n",
              "      <td>23</td>\n",
              "      <td>110</td>\n",
              "      <td>174</td>\n",
              "      <td>203</td>\n",
              "      <td>231</td>\n",
              "      <td>214</td>\n",
              "      <td>179</td>\n",
              "      <td>147</td>\n",
              "      <td>143</td>\n",
              "      <td>116</td>\n",
              "      <td>...</td>\n",
              "      <td>0</td>\n",
              "      <td>0</td>\n",
              "      <td>0</td>\n",
              "      <td>0</td>\n",
              "      <td>0</td>\n",
              "      <td>0</td>\n",
              "      <td>0</td>\n",
              "      <td>0</td>\n",
              "      <td>0</td>\n",
              "      <td>0</td>\n",
              "    </tr>\n",
              "    <tr>\n",
              "      <th>U4</th>\n",
              "      <td>15</td>\n",
              "      <td>75</td>\n",
              "      <td>127</td>\n",
              "      <td>149</td>\n",
              "      <td>151</td>\n",
              "      <td>147</td>\n",
              "      <td>124</td>\n",
              "      <td>104</td>\n",
              "      <td>82</td>\n",
              "      <td>76</td>\n",
              "      <td>...</td>\n",
              "      <td>0</td>\n",
              "      <td>0</td>\n",
              "      <td>0</td>\n",
              "      <td>0</td>\n",
              "      <td>0</td>\n",
              "      <td>0</td>\n",
              "      <td>0</td>\n",
              "      <td>0</td>\n",
              "      <td>0</td>\n",
              "      <td>0</td>\n",
              "    </tr>\n",
              "  </tbody>\n",
              "</table>\n",
              "<p>16 rows × 67 columns</p>\n",
              "</div>"
            ],
            "text/plain": [
              "TIMELAG  0.0     1.0     2.0     3.0     4.0     5.0     6.0     7.0     \\\n",
              "DOMAIN                                                                    \n",
              "C1           48     232     357     453     478     513     370     378   \n",
              "C2           84     347     494     700     748     722     563     491   \n",
              "C3           61     226     337     453     467     459     353     302   \n",
              "R1            7      53      74     104     109     113      79      78   \n",
              "R2          127     519     834    1174    1198    1190     992     829   \n",
              "R3           49     196     297     444     408     418     304     278   \n",
              "S1           83     387     664     897     904     948     684     656   \n",
              "S2           72     330     577     744     715     697     559     485   \n",
              "S3           26      80     124     164     171     180     123      99   \n",
              "T1           30     163     289     365     415     433     332     259   \n",
              "T2          111     504     789    1122    1034    1056     800     749   \n",
              "T3           20     104     150     208     192     166     146     129   \n",
              "U1           30     167     253     337     346     388     253     236   \n",
              "U2           24     124     202     268     260     279     231     167   \n",
              "U3           23     110     174     203     231     214     179     147   \n",
              "U4           15      75     127     149     151     147     124     104   \n",
              "\n",
              "TIMELAG  8.0     9.0     ...  57.0    58.0    59.0    61.0    62.0    89.0    \\\n",
              "DOMAIN                   ...                                                   \n",
              "C1          346     270  ...       0       0       0       0       0       0   \n",
              "C2          443     365  ...       0       0       0       0       0       0   \n",
              "C3          242     212  ...       0       0       1       0       0       0   \n",
              "R1           70      65  ...       0       0       0       0       0       0   \n",
              "R2          702     636  ...       0       1       0       0       0       1   \n",
              "R3          262     204  ...       0       0       0       0       0       0   \n",
              "S1          603     503  ...       1       0       1       0       1       0   \n",
              "S2          465     374  ...       0       0       0       0       0       0   \n",
              "S3           85      75  ...       0       0       0       0       0       0   \n",
              "T1          274     237  ...       0       0       0       0       0       0   \n",
              "T2          647     564  ...       1       0       0       1       0       0   \n",
              "T3           95      96  ...       0       0       0       0       0       0   \n",
              "U1          222     189  ...       0       0       0       0       0       0   \n",
              "U2          192     151  ...       0       0       0       0       0       0   \n",
              "U3          143     116  ...       0       0       0       0       0       0   \n",
              "U4           82      76  ...       0       0       0       0       0       0   \n",
              "\n",
              "TIMELAG  90.0    442.0   1044.0  1088.0  \n",
              "DOMAIN                                   \n",
              "C1            0       0       0       0  \n",
              "C2            0       0       0       1  \n",
              "C3            0       1       0       0  \n",
              "R1            0       0       0       0  \n",
              "R2            0       0       1       0  \n",
              "R3            1       0       0       0  \n",
              "S1            0       0       0       0  \n",
              "S2            0       0       0       0  \n",
              "S3            0       0       0       0  \n",
              "T1            0       0       0       0  \n",
              "T2            0       0       0       0  \n",
              "T3            0       0       0       0  \n",
              "U1            0       0       0       0  \n",
              "U2            0       0       0       0  \n",
              "U3            0       0       0       0  \n",
              "U4            0       0       0       0  \n",
              "\n",
              "[16 rows x 67 columns]"
            ]
          },
          "execution_count": 16,
          "metadata": {},
          "output_type": "execute_result"
        }
      ],
      "source": [
        "data_crosstab=pd.crosstab(data['DOMAIN'],data['TIMELAG'])\n",
        "data_crosstab"
      ]
    },
    {
      "cell_type": "code",
      "execution_count": 17,
      "metadata": {
        "id": "YOjWnmEmM8Dp"
      },
      "outputs": [],
      "source": [
        "chi2, pval, dof, expec=chi2_contingency(data_crosstab)"
      ]
    },
    {
      "cell_type": "code",
      "execution_count": 18,
      "metadata": {
        "colab": {
          "base_uri": "https://localhost:8080/"
        },
        "id": "MmWaVLV4M8BJ",
        "outputId": "8f3ce8c5-56c5-48cd-93fc-32ea35ef2cc7"
      },
      "outputs": [
        {
          "data": {
            "text/plain": [
              "0.2502619412542998"
            ]
          },
          "execution_count": 18,
          "metadata": {},
          "output_type": "execute_result"
        }
      ],
      "source": [
        "#en este caso, es mayor a 0.05, lo que indica que estas columnas están \"muy desconectadas\" por lo\n",
        "#tanto no sería recomendable eliminar alguna de ellas porque aportan información diferente a tu comportamiento general\n",
        "#pvalue grande es mayot probabilidad de indepenedcia\n",
        "#pvalue chico es menor probabilidad de indepenedcia\n",
        "pval"
      ]
    },
    {
      "cell_type": "code",
      "execution_count": 19,
      "metadata": {
        "colab": {
          "base_uri": "https://localhost:8080/"
        },
        "id": "BAx7K4d0M7-R",
        "outputId": "d6df78dd-342b-460a-c755-12b4cd88b7f8"
      },
      "outputs": [
        {
          "data": {
            "text/plain": [
              "array([[5.32277205e+01, 2.37684772e+02, 3.77325397e+02, ...,\n",
              "        6.57132352e-02, 6.57132352e-02, 6.57132352e-02],\n",
              "       [7.26990225e+01, 3.24632549e+02, 5.15355293e+02, ...,\n",
              "        8.97518796e-02, 8.97518796e-02, 8.97518796e-02],\n",
              "       [4.62546118e+01, 2.06546828e+02, 3.27893804e+02, ...,\n",
              "        5.71044591e-02, 5.71044591e-02, 5.71044591e-02],\n",
              "       ...,\n",
              "       [2.83340307e+01, 1.26523690e+02, 2.00856795e+02, ...,\n",
              "        3.49802848e-02, 3.49802848e-02, 3.49802848e-02],\n",
              "       [2.25522042e+01, 1.00705336e+02, 1.59870070e+02, ...,\n",
              "        2.78422274e-02, 2.78422274e-02, 2.78422274e-02],\n",
              "       [1.54455897e+01, 6.89712322e+01, 1.09492070e+02, ...,\n",
              "        1.90686293e-02, 1.90686293e-02, 1.90686293e-02]])"
            ]
          },
          "execution_count": 19,
          "metadata": {},
          "output_type": "execute_result"
        }
      ],
      "source": [
        "expec"
      ]
    },
    {
      "cell_type": "code",
      "execution_count": 20,
      "metadata": {
        "id": "0SS_AvpBM77p"
      },
      "outputs": [],
      "source": [
        "#de las prubas previas que hicimos, tentativamente, podríamos borrar DOMAIN o STATE\n",
        "\n",
        "#esta mteolodogía que vimos es SÓLO para las categóricas"
      ]
    },
    {
      "cell_type": "code",
      "execution_count": 21,
      "metadata": {
        "id": "-TGc5LngM75J"
      },
      "outputs": [],
      "source": [
        "#Ahora vamosa a transformar \"rápidamente\" lo numérico\n",
        "data = pd.read_csv('unit4.txt')\n",
        "data_c=data[['INCOME', 'HV1', 'IC1', 'CARDPROM', 'NGIFTALL', 'TIMELAG','DOMAIN', 'AVGGIFT']]"
      ]
    },
    {
      "cell_type": "code",
      "execution_count": 22,
      "metadata": {
        "colab": {
          "base_uri": "https://localhost:8080/"
        },
        "id": "Uuxya766Xqi5",
        "outputId": "b1b5aa7c-d9ff-4107-87bf-3a97da8032df"
      },
      "outputs": [
        {
          "name": "stderr",
          "output_type": "stream",
          "text": [
            "C:\\Users\\monik\\AppData\\Local\\Temp\\ipykernel_9940\\2989969905.py:2: DeprecationWarning: `np.object` is a deprecated alias for the builtin `object`. To silence this warning, use `object` by itself. Doing this will not modify any behavior and is safe. \n",
            "Deprecated in NumPy 1.20; for more details and guidance: https://numpy.org/devdocs/release/1.20.0-notes.html#deprecations\n",
            "  categorical=data_c.select_dtypes(np.object)\n"
          ]
        }
      ],
      "source": [
        "numerical=data_c.select_dtypes(np.number)#.copy()\n",
        "categorical=data_c.select_dtypes(np.object)\n",
        "\n",
        "for i in (numerical.columns):\n",
        "  numerical[i]=numerical[i].fillna(np.mean(numerical[i]))\n",
        "#recordando que nuesro target es el AVGGIFT\n",
        "X_num=numerical.drop(['AVGGIFT'],axis=1)#.copy()\n",
        "\n",
        "from sklearn.preprocessing import StandardScaler\n",
        "transfromer=StandardScaler().fit(X_num)\n",
        "x_stan=transfromer.transform(X_num)\n",
        "\n"
      ]
    },
    {
      "cell_type": "code",
      "execution_count": 23,
      "metadata": {
        "id": "UCLklNm3XqgA"
      },
      "outputs": [],
      "source": [
        "#Ahora tratando lo cateógico\n",
        "\n",
        "vals_domain=pd.DataFrame(data['DOMAIN'].value_counts())\n",
        "vals_domain=vals_domain.reset_index()\n",
        "vals_domain.columns=['dom','counts']"
      ]
    },
    {
      "cell_type": "code",
      "execution_count": 24,
      "metadata": {
        "colab": {
          "base_uri": "https://localhost:8080/",
          "height": 551
        },
        "id": "PQSSQpR9Xqdq",
        "outputId": "a16ba3e6-6c3a-4bdd-d6c0-705eef229d74"
      },
      "outputs": [
        {
          "data": {
            "text/html": [
              "<div>\n",
              "<style scoped>\n",
              "    .dataframe tbody tr th:only-of-type {\n",
              "        vertical-align: middle;\n",
              "    }\n",
              "\n",
              "    .dataframe tbody tr th {\n",
              "        vertical-align: top;\n",
              "    }\n",
              "\n",
              "    .dataframe thead th {\n",
              "        text-align: right;\n",
              "    }\n",
              "</style>\n",
              "<table border=\"1\" class=\"dataframe\">\n",
              "  <thead>\n",
              "    <tr style=\"text-align: right;\">\n",
              "      <th></th>\n",
              "      <th>dom</th>\n",
              "      <th>counts</th>\n",
              "    </tr>\n",
              "  </thead>\n",
              "  <tbody>\n",
              "    <tr>\n",
              "      <th>0</th>\n",
              "      <td>R2</td>\n",
              "      <td>13006</td>\n",
              "    </tr>\n",
              "    <tr>\n",
              "      <th>1</th>\n",
              "      <td>T2</td>\n",
              "      <td>11717</td>\n",
              "    </tr>\n",
              "    <tr>\n",
              "      <th>2</th>\n",
              "      <td>S1</td>\n",
              "      <td>10866</td>\n",
              "    </tr>\n",
              "    <tr>\n",
              "      <th>3</th>\n",
              "      <td>S2</td>\n",
              "      <td>8054</td>\n",
              "    </tr>\n",
              "    <tr>\n",
              "      <th>4</th>\n",
              "      <td>C2</td>\n",
              "      <td>7834</td>\n",
              "    </tr>\n",
              "    <tr>\n",
              "      <th>5</th>\n",
              "      <td>C1</td>\n",
              "      <td>5793</td>\n",
              "    </tr>\n",
              "    <tr>\n",
              "      <th>6</th>\n",
              "      <td>C3</td>\n",
              "      <td>5056</td>\n",
              "    </tr>\n",
              "    <tr>\n",
              "      <th>7</th>\n",
              "      <td>T1</td>\n",
              "      <td>4712</td>\n",
              "    </tr>\n",
              "    <tr>\n",
              "      <th>8</th>\n",
              "      <td>R3</td>\n",
              "      <td>4572</td>\n",
              "    </tr>\n",
              "    <tr>\n",
              "      <th>9</th>\n",
              "      <td>U1</td>\n",
              "      <td>4259</td>\n",
              "    </tr>\n",
              "    <tr>\n",
              "      <th>10</th>\n",
              "      <td>U2</td>\n",
              "      <td>3111</td>\n",
              "    </tr>\n",
              "    <tr>\n",
              "      <th>11</th>\n",
              "      <td>U3</td>\n",
              "      <td>2484</td>\n",
              "    </tr>\n",
              "    <tr>\n",
              "      <th>12</th>\n",
              "      <td>T3</td>\n",
              "      <td>2092</td>\n",
              "    </tr>\n",
              "    <tr>\n",
              "      <th>13</th>\n",
              "      <td>S3</td>\n",
              "      <td>1817</td>\n",
              "    </tr>\n",
              "    <tr>\n",
              "      <th>14</th>\n",
              "      <td>U4</td>\n",
              "      <td>1735</td>\n",
              "    </tr>\n",
              "    <tr>\n",
              "      <th>15</th>\n",
              "      <td>R1</td>\n",
              "      <td>1285</td>\n",
              "    </tr>\n",
              "  </tbody>\n",
              "</table>\n",
              "</div>"
            ],
            "text/plain": [
              "   dom  counts\n",
              "0   R2   13006\n",
              "1   T2   11717\n",
              "2   S1   10866\n",
              "3   S2    8054\n",
              "4   C2    7834\n",
              "5   C1    5793\n",
              "6   C3    5056\n",
              "7   T1    4712\n",
              "8   R3    4572\n",
              "9   U1    4259\n",
              "10  U2    3111\n",
              "11  U3    2484\n",
              "12  T3    2092\n",
              "13  S3    1817\n",
              "14  U4    1735\n",
              "15  R1    1285"
            ]
          },
          "execution_count": 24,
          "metadata": {},
          "output_type": "execute_result"
        }
      ],
      "source": [
        "vals_domain"
      ]
    },
    {
      "cell_type": "code",
      "execution_count": 25,
      "metadata": {
        "colab": {
          "base_uri": "https://localhost:8080/",
          "height": 331
        },
        "id": "SbMlKcviXqbh",
        "outputId": "288f3638-281c-401f-fe12-2322114526ef"
      },
      "outputs": [
        {
          "data": {
            "text/html": [
              "<div>\n",
              "<style scoped>\n",
              "    .dataframe tbody tr th:only-of-type {\n",
              "        vertical-align: middle;\n",
              "    }\n",
              "\n",
              "    .dataframe tbody tr th {\n",
              "        vertical-align: top;\n",
              "    }\n",
              "\n",
              "    .dataframe thead th {\n",
              "        text-align: right;\n",
              "    }\n",
              "</style>\n",
              "<table border=\"1\" class=\"dataframe\">\n",
              "  <thead>\n",
              "    <tr style=\"text-align: right;\">\n",
              "      <th></th>\n",
              "      <th>dom</th>\n",
              "      <th>counts</th>\n",
              "    </tr>\n",
              "  </thead>\n",
              "  <tbody>\n",
              "    <tr>\n",
              "      <th>7</th>\n",
              "      <td>T1</td>\n",
              "      <td>4712</td>\n",
              "    </tr>\n",
              "    <tr>\n",
              "      <th>8</th>\n",
              "      <td>R3</td>\n",
              "      <td>4572</td>\n",
              "    </tr>\n",
              "    <tr>\n",
              "      <th>9</th>\n",
              "      <td>U1</td>\n",
              "      <td>4259</td>\n",
              "    </tr>\n",
              "    <tr>\n",
              "      <th>10</th>\n",
              "      <td>U2</td>\n",
              "      <td>3111</td>\n",
              "    </tr>\n",
              "    <tr>\n",
              "      <th>11</th>\n",
              "      <td>U3</td>\n",
              "      <td>2484</td>\n",
              "    </tr>\n",
              "    <tr>\n",
              "      <th>12</th>\n",
              "      <td>T3</td>\n",
              "      <td>2092</td>\n",
              "    </tr>\n",
              "    <tr>\n",
              "      <th>13</th>\n",
              "      <td>S3</td>\n",
              "      <td>1817</td>\n",
              "    </tr>\n",
              "    <tr>\n",
              "      <th>14</th>\n",
              "      <td>U4</td>\n",
              "      <td>1735</td>\n",
              "    </tr>\n",
              "    <tr>\n",
              "      <th>15</th>\n",
              "      <td>R1</td>\n",
              "      <td>1285</td>\n",
              "    </tr>\n",
              "  </tbody>\n",
              "</table>\n",
              "</div>"
            ],
            "text/plain": [
              "   dom  counts\n",
              "7   T1    4712\n",
              "8   R3    4572\n",
              "9   U1    4259\n",
              "10  U2    3111\n",
              "11  U3    2484\n",
              "12  T3    2092\n",
              "13  S3    1817\n",
              "14  U4    1735\n",
              "15  R1    1285"
            ]
          },
          "execution_count": 25,
          "metadata": {},
          "output_type": "execute_result"
        }
      ],
      "source": [
        "#me interesa datos que tengan como cateorgía mayor a 5000 registros\n",
        "group_vals_domain=vals_domain[vals_domain['counts']<5000]\n",
        "group_vals_domain"
      ]
    },
    {
      "cell_type": "code",
      "execution_count": 26,
      "metadata": {
        "colab": {
          "base_uri": "https://localhost:8080/"
        },
        "id": "kgn1aTHdXqYY",
        "outputId": "ac70ac92-a9bb-4795-a0fa-e82a3f1e5d0d"
      },
      "outputs": [
        {
          "data": {
            "text/plain": [
              "['T1', 'R3', 'U1', 'U2', 'U3', 'T3', 'S3', 'U4', 'R1']"
            ]
          },
          "execution_count": 26,
          "metadata": {},
          "output_type": "execute_result"
        }
      ],
      "source": [
        "group_vals_domain=list(group_vals_domain['dom'])\n",
        "group_vals_domain"
      ]
    },
    {
      "cell_type": "code",
      "execution_count": 27,
      "metadata": {
        "id": "1-N6HEG1a7Cn"
      },
      "outputs": [],
      "source": [
        "def clean_vals_domain(x):\n",
        "  if x in group_vals_domain:\n",
        "    return 'other'\n",
        "  else: return x\n",
        "data['DOMAIN']=list(map(clean_vals_domain,data['DOMAIN']))"
      ]
    },
    {
      "cell_type": "code",
      "execution_count": 28,
      "metadata": {
        "colab": {
          "base_uri": "https://localhost:8080/"
        },
        "id": "O4KHQEDobRAk",
        "outputId": "2acbc47c-0132-4e2a-8e96-b54544c779fa"
      },
      "outputs": [
        {
          "data": {
            "text/plain": [
              "other    26067\n",
              "R2       13006\n",
              "T2       11717\n",
              "S1       10866\n",
              "S2        8054\n",
              "C2        7834\n",
              "C1        5793\n",
              "C3        5056\n",
              "Name: DOMAIN, dtype: int64"
            ]
          },
          "execution_count": 28,
          "metadata": {},
          "output_type": "execute_result"
        }
      ],
      "source": [
        "data['DOMAIN'].value_counts()"
      ]
    },
    {
      "cell_type": "code",
      "execution_count": 29,
      "metadata": {
        "colab": {
          "base_uri": "https://localhost:8080/"
        },
        "id": "kObXQxpEbr9v",
        "outputId": "71caae81-d7de-4851-8f2b-ab19f2316401"
      },
      "outputs": [
        {
          "data": {
            "text/plain": [
              "2176"
            ]
          },
          "execution_count": 29,
          "metadata": {},
          "output_type": "execute_result"
        }
      ],
      "source": [
        "data['DOMAIN'].isnull().sum()"
      ]
    },
    {
      "cell_type": "code",
      "execution_count": 30,
      "metadata": {
        "id": "isGskwfPcT5o"
      },
      "outputs": [],
      "source": [
        "data['DOMAIN'].fillna('R2',inplace=True)"
      ]
    },
    {
      "cell_type": "code",
      "execution_count": 31,
      "metadata": {
        "id": "EPF6hw_-bYjP"
      },
      "outputs": [
        {
          "data": {
            "text/plain": [
              "array([[0., 0., 0., ..., 0., 1., 0.],\n",
              "       [0., 0., 0., ..., 0., 0., 0.],\n",
              "       [0., 0., 1., ..., 0., 0., 0.],\n",
              "       ...,\n",
              "       [0., 0., 0., ..., 0., 0., 0.],\n",
              "       [0., 1., 0., ..., 0., 0., 0.],\n",
              "       [0., 0., 0., ..., 0., 0., 0.]])"
            ]
          },
          "execution_count": 31,
          "metadata": {},
          "output_type": "execute_result"
        }
      ],
      "source": [
        "from sklearn.preprocessing import OneHotEncoder\n",
        "encoder=OneHotEncoder(drop='first').fit(data[['DOMAIN']])\n",
        "encoder=encoder.transform(data[['DOMAIN']]).toarray()\n",
        "encoder"
      ]
    },
    {
      "cell_type": "code",
      "execution_count": 32,
      "metadata": {
        "id": "4wzucOkncEOA"
      },
      "outputs": [
        {
          "ename": "TypeError",
          "evalue": "cannot concatenate object of type '<class 'numpy.ndarray'>'; only Series and DataFrame objs are valid",
          "output_type": "error",
          "traceback": [
            "\u001b[1;31m---------------------------------------------------------------------------\u001b[0m",
            "\u001b[1;31mTypeError\u001b[0m                                 Traceback (most recent call last)",
            "\u001b[1;32m~\\AppData\\Local\\Temp\\ipykernel_9940\\977924032.py\u001b[0m in \u001b[0;36m<module>\u001b[1;34m\u001b[0m\n\u001b[0;32m      1\u001b[0m \u001b[0mencoded_df\u001b[0m\u001b[1;33m=\u001b[0m\u001b[0mpd\u001b[0m\u001b[1;33m.\u001b[0m\u001b[0mDataFrame\u001b[0m\u001b[1;33m(\u001b[0m\u001b[0mencoder\u001b[0m\u001b[1;33m)\u001b[0m\u001b[1;33m\u001b[0m\u001b[1;33m\u001b[0m\u001b[0m\n\u001b[0;32m      2\u001b[0m \u001b[0mscaled_df\u001b[0m\u001b[1;33m=\u001b[0m\u001b[0mpd\u001b[0m\u001b[1;33m.\u001b[0m\u001b[0mDataFrame\u001b[0m\u001b[1;33m(\u001b[0m\u001b[0mx_stan\u001b[0m\u001b[1;33m)\u001b[0m\u001b[1;33m\u001b[0m\u001b[1;33m\u001b[0m\u001b[0m\n\u001b[1;32m----> 3\u001b[1;33m \u001b[0mX\u001b[0m\u001b[1;33m=\u001b[0m\u001b[0mpd\u001b[0m\u001b[1;33m.\u001b[0m\u001b[0mconcat\u001b[0m\u001b[1;33m(\u001b[0m\u001b[1;33m[\u001b[0m\u001b[0mx_stan\u001b[0m\u001b[1;33m,\u001b[0m\u001b[0mencoded_df\u001b[0m\u001b[1;33m]\u001b[0m\u001b[1;33m,\u001b[0m\u001b[0maxis\u001b[0m\u001b[1;33m=\u001b[0m\u001b[1;36m1\u001b[0m\u001b[1;33m)\u001b[0m\u001b[1;33m\u001b[0m\u001b[1;33m\u001b[0m\u001b[0m\n\u001b[0m\u001b[0;32m      4\u001b[0m \u001b[0my\u001b[0m\u001b[1;33m=\u001b[0m\u001b[0mdata_c\u001b[0m\u001b[1;33m[\u001b[0m\u001b[1;34m'AVGGIFT'\u001b[0m\u001b[1;33m]\u001b[0m\u001b[1;33m\u001b[0m\u001b[1;33m\u001b[0m\u001b[0m\n",
            "\u001b[1;32mc:\\Users\\monik\\anaconda3\\lib\\site-packages\\pandas\\util\\_decorators.py\u001b[0m in \u001b[0;36mwrapper\u001b[1;34m(*args, **kwargs)\u001b[0m\n\u001b[0;32m    309\u001b[0m                     \u001b[0mstacklevel\u001b[0m\u001b[1;33m=\u001b[0m\u001b[0mstacklevel\u001b[0m\u001b[1;33m,\u001b[0m\u001b[1;33m\u001b[0m\u001b[1;33m\u001b[0m\u001b[0m\n\u001b[0;32m    310\u001b[0m                 )\n\u001b[1;32m--> 311\u001b[1;33m             \u001b[1;32mreturn\u001b[0m \u001b[0mfunc\u001b[0m\u001b[1;33m(\u001b[0m\u001b[1;33m*\u001b[0m\u001b[0margs\u001b[0m\u001b[1;33m,\u001b[0m \u001b[1;33m**\u001b[0m\u001b[0mkwargs\u001b[0m\u001b[1;33m)\u001b[0m\u001b[1;33m\u001b[0m\u001b[1;33m\u001b[0m\u001b[0m\n\u001b[0m\u001b[0;32m    312\u001b[0m \u001b[1;33m\u001b[0m\u001b[0m\n\u001b[0;32m    313\u001b[0m         \u001b[1;32mreturn\u001b[0m \u001b[0mwrapper\u001b[0m\u001b[1;33m\u001b[0m\u001b[1;33m\u001b[0m\u001b[0m\n",
            "\u001b[1;32mc:\\Users\\monik\\anaconda3\\lib\\site-packages\\pandas\\core\\reshape\\concat.py\u001b[0m in \u001b[0;36mconcat\u001b[1;34m(objs, axis, join, ignore_index, keys, levels, names, verify_integrity, sort, copy)\u001b[0m\n\u001b[0;32m    345\u001b[0m     \u001b[0mValueError\u001b[0m\u001b[1;33m:\u001b[0m \u001b[0mIndexes\u001b[0m \u001b[0mhave\u001b[0m \u001b[0moverlapping\u001b[0m \u001b[0mvalues\u001b[0m\u001b[1;33m:\u001b[0m \u001b[1;33m[\u001b[0m\u001b[1;34m'a'\u001b[0m\u001b[1;33m]\u001b[0m\u001b[1;33m\u001b[0m\u001b[1;33m\u001b[0m\u001b[0m\n\u001b[0;32m    346\u001b[0m     \"\"\"\n\u001b[1;32m--> 347\u001b[1;33m     op = _Concatenator(\n\u001b[0m\u001b[0;32m    348\u001b[0m         \u001b[0mobjs\u001b[0m\u001b[1;33m,\u001b[0m\u001b[1;33m\u001b[0m\u001b[1;33m\u001b[0m\u001b[0m\n\u001b[0;32m    349\u001b[0m         \u001b[0maxis\u001b[0m\u001b[1;33m=\u001b[0m\u001b[0maxis\u001b[0m\u001b[1;33m,\u001b[0m\u001b[1;33m\u001b[0m\u001b[1;33m\u001b[0m\u001b[0m\n",
            "\u001b[1;32mc:\\Users\\monik\\anaconda3\\lib\\site-packages\\pandas\\core\\reshape\\concat.py\u001b[0m in \u001b[0;36m__init__\u001b[1;34m(self, objs, axis, join, keys, levels, names, ignore_index, verify_integrity, copy, sort)\u001b[0m\n\u001b[0;32m    435\u001b[0m                     \u001b[1;34m\"only Series and DataFrame objs are valid\"\u001b[0m\u001b[1;33m\u001b[0m\u001b[1;33m\u001b[0m\u001b[0m\n\u001b[0;32m    436\u001b[0m                 )\n\u001b[1;32m--> 437\u001b[1;33m                 \u001b[1;32mraise\u001b[0m \u001b[0mTypeError\u001b[0m\u001b[1;33m(\u001b[0m\u001b[0mmsg\u001b[0m\u001b[1;33m)\u001b[0m\u001b[1;33m\u001b[0m\u001b[1;33m\u001b[0m\u001b[0m\n\u001b[0m\u001b[0;32m    438\u001b[0m \u001b[1;33m\u001b[0m\u001b[0m\n\u001b[0;32m    439\u001b[0m             \u001b[0mndims\u001b[0m\u001b[1;33m.\u001b[0m\u001b[0madd\u001b[0m\u001b[1;33m(\u001b[0m\u001b[0mobj\u001b[0m\u001b[1;33m.\u001b[0m\u001b[0mndim\u001b[0m\u001b[1;33m)\u001b[0m\u001b[1;33m\u001b[0m\u001b[1;33m\u001b[0m\u001b[0m\n",
            "\u001b[1;31mTypeError\u001b[0m: cannot concatenate object of type '<class 'numpy.ndarray'>'; only Series and DataFrame objs are valid"
          ]
        }
      ],
      "source": [
        "encoded_df=pd.DataFrame(encoder)\n",
        "scaled_df=pd.DataFrame(x_stan)\n",
        "X=pd.concat([x_stan,encoded_df],axis=1)\n",
        "y=data_c['AVGGIFT']"
      ]
    },
    {
      "cell_type": "code",
      "execution_count": null,
      "metadata": {
        "id": "0ToZaqSmx0Qd"
      },
      "outputs": [],
      "source": [
        "from sklearn.model_selection import train_test_split\n",
        "\n",
        "X_train,X_test,y_train,y_test=train_test_split(X,y,test_size=0.4,random_state=100)"
      ]
    },
    {
      "cell_type": "code",
      "execution_count": null,
      "metadata": {
        "id": "bcLzldkbx-lR"
      },
      "outputs": [],
      "source": [
        "from sklearn.linear_model import LinearRegression\n",
        "from sklearn import metrics"
      ]
    },
    {
      "cell_type": "code",
      "execution_count": null,
      "metadata": {
        "id": "GRJu8VWJx-i5"
      },
      "outputs": [],
      "source": [
        "model_l=LinearRegression()\n",
        "model_l=model_l.fit(X_train,y_train)\n",
        "\n",
        "predictions=model_l.predict(X_test)"
      ]
    },
    {
      "cell_type": "code",
      "execution_count": null,
      "metadata": {
        "colab": {
          "base_uri": "https://localhost:8080/"
        },
        "id": "vGZwUi6g_GLB",
        "outputId": "be5e58a3-edfc-4fb3-b7f9-9a776fc28186"
      },
      "outputs": [],
      "source": [
        "predictions=model_l.predict(X_test)\n",
        "np.abs((y_test-predictions)/y_test).sum()"
      ]
    },
    {
      "cell_type": "code",
      "execution_count": null,
      "metadata": {
        "colab": {
          "base_uri": "https://localhost:8080/"
        },
        "id": "qHVgmKREx-gh",
        "outputId": "6b09d963-a993-4dbd-ca77-46579bfe0c7b"
      },
      "outputs": [],
      "source": [
        "#Viendo la R2\n",
        "metrics.r2_score(y_test,predictions)\n",
        "#en este caso, así como lo tenemos hasta ahora, definitivamente un modelo lineal difícilmente\n",
        "#se podría ajustar mucho mejor con otro tratamiento de nulos, trasnf etc..."
      ]
    },
    {
      "cell_type": "code",
      "execution_count": null,
      "metadata": {
        "id": "juSQO3hRx-eK"
      },
      "outputs": [],
      "source": [
        "#Un modelo alternativo que no es lineal, ni siquiera responde a alguna ecuación matemática particular\n",
        "\n",
        "#cuando ya tenemos un \"molde\" (en el caso de la regresión lineal, el model es el y=mx+b) se le llama\n",
        "#método paramétrico (porque del molde sólo falta encontrar los parámetros e.g. m, b, m1,m2)\n",
        "\n",
        "#hay otros modelos que se llaman no paramétrico porque no tienen un molde pre-definido"
      ]
    },
    {
      "cell_type": "code",
      "execution_count": null,
      "metadata": {
        "id": "X7wbWL8Mx-bq"
      },
      "outputs": [],
      "source": [
        "#KNN (K Nearest Neighbors)\n",
        "#este es un modelo no-paramétric que puede servir tanto para hacer predicciones/regresiones y para clasificar\n",
        "\n",
        "#consideraciones\n",
        "#procurar elegir un número de vecinos que no sea diviseble entre el número de grupos\n",
        "#normalmente entre 5 y 10 vecinos es más que suficiente\n",
        "\n",
        "#una de las desventajdas de este modelo es que puede llegar a tardar muchísimo\n",
        "#otra \"desventaja\" es que no obtiene una ecuación para la predección que te interesa,\n",
        "#Siempre debe posicionar al punto nuevo dentro del espacio de puntos y calcular algunas distancias, y también\n",
        "#conlleva un costo computacional encontar a lo que son los más cercanos"
      ]
    },
    {
      "cell_type": "code",
      "execution_count": null,
      "metadata": {
        "colab": {
          "base_uri": "https://localhost:8080/"
        },
        "id": "_eujR5jhx-ZG",
        "outputId": "f79951ec-af54-41f4-9179-269117d68d28"
      },
      "outputs": [],
      "source": [
        "from sklearn.neighbors import KNeighborsRegressor #<<--- el Regressor es para problemas de regresión y está\n",
        "#el KNeighborsClassifer para los problemas de clasificación SUPERVISADA donde conocemos el target\n",
        "model_knn=KNeighborsRegressor(n_neighbors=15,n_jobs=4) #n_neighbors es el hiperpa´rametro del modelo\n",
        "#el n_job es paralelizar un poco el modelo apra que sea un poco más rápido; esto lo hace\n",
        "#usando n_job procesadores de tu compu y no es un hiperparámetro\n",
        "model_knn.fit(X_train,y_train)"
      ]
    },
    {
      "cell_type": "code",
      "execution_count": null,
      "metadata": {
        "id": "iu3ATDEix-Wh"
      },
      "outputs": [],
      "source": [
        "predictions=model_knn.predict(X_test)"
      ]
    },
    {
      "cell_type": "code",
      "execution_count": null,
      "metadata": {
        "colab": {
          "base_uri": "https://localhost:8080/"
        },
        "id": "5-JY_l2mFtSz",
        "outputId": "9ffd23c4-6edf-429c-998e-5f23af5c1909"
      },
      "outputs": [],
      "source": [
        "1-5.0/6.8"
      ]
    },
    {
      "cell_type": "code",
      "execution_count": null,
      "metadata": {
        "colab": {
          "base_uri": "https://localhost:8080/",
          "height": 328
        },
        "id": "34PjkaAzA7_-",
        "outputId": "9f6bf7da-2e77-4367-d7ea-93a341f31011"
      },
      "outputs": [],
      "source": [
        "model.score(X_test,y_test)"
      ]
    },
    {
      "cell_type": "code",
      "execution_count": null,
      "metadata": {
        "colab": {
          "base_uri": "https://localhost:8080/"
        },
        "id": "Iy1rJHOm-4nq",
        "outputId": "922f2653-a2d6-4e52-f64a-eef8bba7138e"
      },
      "outputs": [],
      "source": [
        "#Una alternativa a R2, es calcular el error_relativo o absoluto\n",
        "#El relativo= abs(VR-VP)/VR\n",
        "#El absoluto VR-VP\n",
        "\n",
        "np.abs((y_test-predictions)/y_test).sum()"
      ]
    },
    {
      "cell_type": "code",
      "execution_count": null,
      "metadata": {
        "id": "hR9O0K91_yM2"
      },
      "outputs": [],
      "source": [
        "scores_knn=[]\n",
        "for i in range (2,10): #(2,10)es el número de vecino par que pongamos a prueba el error del modelo\n",
        "  model=KNeighborsRegressor(n_neighbors=i)\n",
        "  model.fit(X_train,y_train)\n",
        "  scores_knn.append(model.score(X_test,y_test))"
      ]
    },
    {
      "cell_type": "code",
      "execution_count": null,
      "metadata": {
        "colab": {
          "base_uri": "https://localhost:8080/",
          "height": 421
        },
        "id": "TkewQkl0BQaN",
        "outputId": "91e033a8-54ee-40b9-fc5f-c10da8d0150c"
      },
      "outputs": [],
      "source": [
        "plt.figure(figsize=(10,6))\n",
        "plt.plot(range(2,10),scores_knn,color='blue', linestyle='dashed',\n",
        "         marker='o',markersize=10, markerfacecolor='red')\n",
        "\n",
        "plt.title('Accuracy vs. K value')\n",
        "plt.xlabel('K')\n",
        "plt.ylabel('Accuracy')"
      ]
    },
    {
      "cell_type": "code",
      "execution_count": null,
      "metadata": {
        "id": "45LheOAyBQXE"
      },
      "outputs": [],
      "source": [
        "1,1,2,3,          4,7,11,18..."
      ]
    },
    {
      "cell_type": "code",
      "execution_count": null,
      "metadata": {
        "id": "hYwbcKBrBQUd"
      },
      "outputs": [],
      "source": []
    },
    {
      "cell_type": "code",
      "execution_count": null,
      "metadata": {
        "id": "Dg4FoJZ9BQSD"
      },
      "outputs": [],
      "source": []
    }
  ],
  "metadata": {
    "colab": {
      "provenance": []
    },
    "kernelspec": {
      "display_name": "base",
      "language": "python",
      "name": "python3"
    },
    "language_info": {
      "codemirror_mode": {
        "name": "ipython",
        "version": 3
      },
      "file_extension": ".py",
      "mimetype": "text/x-python",
      "name": "python",
      "nbconvert_exporter": "python",
      "pygments_lexer": "ipython3",
      "version": "3.9.13"
    },
    "vscode": {
      "interpreter": {
        "hash": "f6a2100a7efc7529035a40d3ea72bc8e547ceb70664fb95a465d233cbcc6110c"
      }
    }
  },
  "nbformat": 4,
  "nbformat_minor": 0
}
